{
 "cells": [
  {
   "cell_type": "code",
   "execution_count": 1,
   "metadata": {},
   "outputs": [
    {
     "name": "stderr",
     "output_type": "stream",
     "text": [
      "2023-11-23 10:21:39.152583: I tensorflow/core/util/port.cc:113] oneDNN custom operations are on. You may see slightly different numerical results due to floating-point round-off errors from different computation orders. To turn them off, set the environment variable `TF_ENABLE_ONEDNN_OPTS=0`.\n",
      "2023-11-23 10:21:39.173995: E external/local_xla/xla/stream_executor/cuda/cuda_dnn.cc:9261] Unable to register cuDNN factory: Attempting to register factory for plugin cuDNN when one has already been registered\n",
      "2023-11-23 10:21:39.174013: E external/local_xla/xla/stream_executor/cuda/cuda_fft.cc:607] Unable to register cuFFT factory: Attempting to register factory for plugin cuFFT when one has already been registered\n",
      "2023-11-23 10:21:39.174549: E external/local_xla/xla/stream_executor/cuda/cuda_blas.cc:1515] Unable to register cuBLAS factory: Attempting to register factory for plugin cuBLAS when one has already been registered\n",
      "2023-11-23 10:21:39.178011: I tensorflow/core/platform/cpu_feature_guard.cc:182] This TensorFlow binary is optimized to use available CPU instructions in performance-critical operations.\n",
      "To enable the following instructions: AVX2 AVX512F AVX512_VNNI FMA, in other operations, rebuild TensorFlow with the appropriate compiler flags.\n",
      "/home/vscode/.local/lib/python3.11/site-packages/tensorflow_addons/utils/tfa_eol_msg.py:23: UserWarning: \n",
      "\n",
      "TensorFlow Addons (TFA) has ended development and introduction of new features.\n",
      "TFA has entered a minimal maintenance and release mode until a planned end of life in May 2024.\n",
      "Please modify downstream libraries to take dependencies from other repositories in our TensorFlow community (e.g. Keras, Keras-CV, and Keras-NLP). \n",
      "\n",
      "For more information see: https://github.com/tensorflow/addons/issues/2807 \n",
      "\n",
      "  warnings.warn(\n",
      "/home/vscode/.local/lib/python3.11/site-packages/tensorflow_addons/utils/ensure_tf_install.py:53: UserWarning: Tensorflow Addons supports using Python ops for all Tensorflow versions above or equal to 2.12.0 and strictly below 2.15.0 (nightly versions are not supported). \n",
      " The versions of TensorFlow you are currently using is 2.15.0 and is not supported. \n",
      "Some things might work, some things might not.\n",
      "If you were to encounter a bug, do not file an issue.\n",
      "If you want to make sure you're using a tested and supported configuration, either change the TensorFlow version or the TensorFlow Addons's version. \n",
      "You can find the compatibility matrix in TensorFlow Addon's readme:\n",
      "https://github.com/tensorflow/addons\n",
      "  warnings.warn(\n"
     ]
    }
   ],
   "source": [
    "import os\n",
    "from itertools import product\n",
    "\n",
    "import tensorflow as tf\n",
    "import numpy as np\n",
    "import matplotlib.pyplot as plt\n",
    "from scipy.ndimage import rotate\n",
    "from scipy import special as sp\n",
    "import SimpleITK as sitk\n",
    "\n",
    "from src.models.cubenet.layers import GroupConv \n",
    "from src.models.models import ResidualGLayer3D\n",
    "from src.models.utils import config_gpu\n",
    "from src.models.models import GUnet, Unet\n",
    "\n",
    "%matplotlib inline"
   ]
  },
  {
   "cell_type": "code",
   "execution_count": 2,
   "metadata": {},
   "outputs": [],
   "source": [
    "# image_sitk = sitk.ReadImage(\"/home/vscode/python_wkspce/petct-seg/data/processed/CHGJ074_ct.nii.gz\")"
   ]
  },
  {
   "cell_type": "code",
   "execution_count": 3,
   "metadata": {},
   "outputs": [],
   "source": [
    "# config_gpu(\"0\", memory_limit=16)"
   ]
  },
  {
   "cell_type": "code",
   "execution_count": 4,
   "metadata": {},
   "outputs": [
    {
     "name": "stderr",
     "output_type": "stream",
     "text": [
      "2023-11-23 10:21:44.375284: I external/local_xla/xla/stream_executor/cuda/cuda_executor.cc:901] successful NUMA node read from SysFS had negative value (-1), but there must be at least one NUMA node, so returning NUMA node zero. See more at https://github.com/torvalds/linux/blob/v6.0/Documentation/ABI/testing/sysfs-bus-pci#L344-L355\n",
      "2023-11-23 10:21:44.378939: I external/local_xla/xla/stream_executor/cuda/cuda_executor.cc:901] successful NUMA node read from SysFS had negative value (-1), but there must be at least one NUMA node, so returning NUMA node zero. See more at https://github.com/torvalds/linux/blob/v6.0/Documentation/ABI/testing/sysfs-bus-pci#L344-L355\n",
      "2023-11-23 10:21:44.379029: I external/local_xla/xla/stream_executor/cuda/cuda_executor.cc:901] successful NUMA node read from SysFS had negative value (-1), but there must be at least one NUMA node, so returning NUMA node zero. See more at https://github.com/torvalds/linux/blob/v6.0/Documentation/ABI/testing/sysfs-bus-pci#L344-L355\n",
      "2023-11-23 10:21:44.380042: I external/local_xla/xla/stream_executor/cuda/cuda_executor.cc:901] successful NUMA node read from SysFS had negative value (-1), but there must be at least one NUMA node, so returning NUMA node zero. See more at https://github.com/torvalds/linux/blob/v6.0/Documentation/ABI/testing/sysfs-bus-pci#L344-L355\n",
      "2023-11-23 10:21:44.380115: I external/local_xla/xla/stream_executor/cuda/cuda_executor.cc:901] successful NUMA node read from SysFS had negative value (-1), but there must be at least one NUMA node, so returning NUMA node zero. See more at https://github.com/torvalds/linux/blob/v6.0/Documentation/ABI/testing/sysfs-bus-pci#L344-L355\n",
      "2023-11-23 10:21:44.380171: I external/local_xla/xla/stream_executor/cuda/cuda_executor.cc:901] successful NUMA node read from SysFS had negative value (-1), but there must be at least one NUMA node, so returning NUMA node zero. See more at https://github.com/torvalds/linux/blob/v6.0/Documentation/ABI/testing/sysfs-bus-pci#L344-L355\n",
      "2023-11-23 10:21:44.438294: I external/local_xla/xla/stream_executor/cuda/cuda_executor.cc:901] successful NUMA node read from SysFS had negative value (-1), but there must be at least one NUMA node, so returning NUMA node zero. See more at https://github.com/torvalds/linux/blob/v6.0/Documentation/ABI/testing/sysfs-bus-pci#L344-L355\n",
      "2023-11-23 10:21:44.438441: I external/local_xla/xla/stream_executor/cuda/cuda_executor.cc:901] successful NUMA node read from SysFS had negative value (-1), but there must be at least one NUMA node, so returning NUMA node zero. See more at https://github.com/torvalds/linux/blob/v6.0/Documentation/ABI/testing/sysfs-bus-pci#L344-L355\n",
      "2023-11-23 10:21:44.438507: I external/local_xla/xla/stream_executor/cuda/cuda_executor.cc:901] successful NUMA node read from SysFS had negative value (-1), but there must be at least one NUMA node, so returning NUMA node zero. See more at https://github.com/torvalds/linux/blob/v6.0/Documentation/ABI/testing/sysfs-bus-pci#L344-L355\n",
      "2023-11-23 10:21:44.438561: I tensorflow/core/common_runtime/gpu/gpu_device.cc:1929] Created device /job:localhost/replica:0/task:0/device:GPU:0 with 7700 MB memory:  -> device: 0, name: NVIDIA GeForce RTX 3080, pci bus id: 0000:01:00.0, compute capability: 8.6\n"
     ]
    }
   ],
   "source": [
    "model = tf.keras.Sequential(layers=[\n",
    "    tf.keras.layers.Lambda(lambda x: tf.expand_dims(x, axis=-2)),\n",
    "    GroupConv(\n",
    "        5,\n",
    "        kernel_size=(3, 3, 3),\n",
    "        group=\"S4\",\n",
    "        activation=\"relu\",\n",
    "        use_bias=True,\n",
    "        bias_initializer=tf.keras.initializers.Constant(0.1),\n",
    "        share_weights=True,\n",
    "    ),\n",
    "    GroupConv(\n",
    "        5,\n",
    "        kernel_size=(3, 3, 3),\n",
    "        group=\"S4\",\n",
    "        activation=\"relu\",\n",
    "        use_bias=True,\n",
    "        bias_initializer=tf.keras.initializers.Constant(0.1),\n",
    "        share_weights=True,\n",
    "    ),\n",
    "    tf.keras.layers.Lambda(lambda x: tf.reduce_max(x, axis=-1)),\n",
    "])\n"
   ]
  },
  {
   "cell_type": "code",
   "execution_count": null,
   "metadata": {},
   "outputs": [],
   "source": [
    "# layer = tf.keras.Sequential(layers=[\n",
    "#     tf.keras.layers.Lambda(lambda x: tf.expand_dims(x, axis=-2)),\n",
    "#     ResidualGLayer3D(8,\n",
    "#                      3,\n",
    "#                      group=\"S4\",\n",
    "#                      activation=\"relu\",\n",
    "#                      use_bias=True,\n",
    "#                      use_batch_norm=True,\n",
    "#                      bias_initializer=tf.keras.initializers.Constant(0.1)),\n",
    "#     tf.keras.layers.Lambda(lambda x: tf.reduce_max(x, axis=-1)),\n",
    "# ])\n",
    "# model = GUnet(1, n_features=[2, 4, 8, 16, 32])\n"
   ]
  },
  {
   "cell_type": "code",
   "execution_count": null,
   "metadata": {},
   "outputs": [],
   "source": [
    "# model_standard = Unet(1, n_features=[2, 4, 8, 16, 32])"
   ]
  },
  {
   "cell_type": "code",
   "execution_count": null,
   "metadata": {},
   "outputs": [],
   "source": [
    "def rotate_3d(image, angle1, angle2, angle3):\n",
    "    image = np.squeeze(image)\n",
    "    image = rotate(image, -angle1, axes=(0, 1), reshape=False, prefilter=False)\n",
    "    image = rotate(image, angle2, axes=(1, 2), reshape=False, prefilter=False)\n",
    "    image = rotate(image, -angle3, axes=(0, 1), reshape=False, prefilter=False)\n",
    "    return image\n",
    "\n",
    "\n",
    "def inv_rotate_3d(image, angle1, angle2, angle3):\n",
    "    image = np.squeeze(image)\n",
    "    image = rotate(image, angle3, axes=(0, 1), reshape=False, prefilter=False)\n",
    "    image = rotate(image, -angle2, axes=(1, 2), reshape=False, prefilter=False)\n",
    "    image = rotate(image, angle1, axes=(0, 1), reshape=False, prefilter=False)\n",
    "    return image"
   ]
  },
  {
   "cell_type": "code",
   "execution_count": null,
   "metadata": {},
   "outputs": [],
   "source": [
    "# image = np.transpose(sitk.GetArrayFromImage(image_sitk), (2, 1, 0))\n",
    "# image = image[60:92, 60:92, 70:102]\n",
    "image = np.random.rand(32, 32, 32)\n",
    "plt.imshow(image[:, :, 15])\n",
    "plt.colorbar()"
   ]
  },
  {
   "cell_type": "code",
   "execution_count": null,
   "metadata": {},
   "outputs": [],
   "source": [
    "angle1, angle2, angle3 = 90, 0, 0\n",
    "axes = (2, 1)\n",
    "# image = np.random.uniform(size=(32, 32, 32))\n",
    "image_rotated = rotate_3d(image, angle1, angle2, angle3)\n"
   ]
  },
  {
   "cell_type": "code",
   "execution_count": null,
   "metadata": {},
   "outputs": [],
   "source": []
  },
  {
   "cell_type": "code",
   "execution_count": null,
   "metadata": {},
   "outputs": [],
   "source": [
    "image.shape"
   ]
  },
  {
   "cell_type": "code",
   "execution_count": null,
   "metadata": {},
   "outputs": [],
   "source": [
    "output = model(image[np.newaxis, :, :, :, np.newaxis])\n",
    "output_rotated = model(image_rotated[np.newaxis, :, :, :, np.newaxis])"
   ]
  },
  {
   "cell_type": "code",
   "execution_count": null,
   "metadata": {},
   "outputs": [],
   "source": [
    "model.summary()"
   ]
  },
  {
   "cell_type": "code",
   "execution_count": null,
   "metadata": {},
   "outputs": [],
   "source": [
    "output.shape"
   ]
  },
  {
   "cell_type": "code",
   "execution_count": null,
   "metadata": {},
   "outputs": [],
   "source": [
    "output.shape"
   ]
  },
  {
   "cell_type": "code",
   "execution_count": null,
   "metadata": {},
   "outputs": [],
   "source": [
    "output.shape"
   ]
  },
  {
   "cell_type": "code",
   "execution_count": null,
   "metadata": {},
   "outputs": [],
   "source": [
    "# f_ind = layer.indices_inverse[(1, 1,2)]\n",
    "# f_ind = layer.indices_inverse[(2, 3, 5)]\n",
    "f_ind = 0\n",
    "fmap = output[0, :, :, :, f_ind]\n",
    "fmap_rotated = output_rotated[0, :, :, :, f_ind]\n",
    "fmap_unrotated = inv_rotate_3d(fmap_rotated, angle1, angle2, angle3)\n",
    "# fmap_unrotated = rotate(fmap_rotated, -90, axes=(0, 1), reshape=False)"
   ]
  },
  {
   "cell_type": "code",
   "execution_count": null,
   "metadata": {},
   "outputs": [],
   "source": [
    "output.shape"
   ]
  },
  {
   "cell_type": "code",
   "execution_count": null,
   "metadata": {},
   "outputs": [],
   "source": [
    "def psnr(x, y):\n",
    "    x_shape = x.shape\n",
    "    mse = (np.sum(np.abs(x - y)**2, axis=(1, 2, 3)) /\n",
    "           (x_shape[1] * x_shape[1] * x_shape[1]))\n",
    "    max_image = np.max(np.abs(x), axis=(1, 2, 3))\n",
    "    return 10 * np.log10(max_image**2 / mse)"
   ]
  },
  {
   "cell_type": "code",
   "execution_count": null,
   "metadata": {},
   "outputs": [],
   "source": [
    "psnr(output, output_rotated)"
   ]
  },
  {
   "cell_type": "code",
   "execution_count": null,
   "metadata": {},
   "outputs": [],
   "source": [
    "s = 15\n",
    "difference = fmap - fmap_unrotated\n",
    "plt.figure(figsize=(24, 4))\n",
    "plt.subplot(131)\n",
    "plt.imshow(np.abs(difference[:, :, s]))\n",
    "plt.colorbar()\n",
    "plt.subplot(132)\n",
    "plt.imshow(np.abs(fmap[:, :, s]))\n",
    "plt.colorbar()\n",
    "plt.subplot(133)\n",
    "plt.imshow(np.abs(fmap_unrotated[:, :, s]))\n",
    "plt.colorbar()"
   ]
  },
  {
   "cell_type": "code",
   "execution_count": null,
   "metadata": {},
   "outputs": [],
   "source": [
    "np.sum(fmap[...])"
   ]
  },
  {
   "cell_type": "code",
   "execution_count": null,
   "metadata": {},
   "outputs": [],
   "source": [
    "kernel_size = 32\n",
    "dirac = np.zeros((1, kernel_size, kernel_size, kernel_size, 1))\n",
    "dirac[0, kernel_size // 2, kernel_size // 2, kernel_size // 2, 0] = 1\n",
    "plt.imshow(dirac[0, :, :, kernel_size//2, 0])"
   ]
  },
  {
   "cell_type": "code",
   "execution_count": null,
   "metadata": {},
   "outputs": [],
   "source": [
    "impulse_response = layer(dirac)"
   ]
  },
  {
   "cell_type": "code",
   "execution_count": null,
   "metadata": {},
   "outputs": [],
   "source": [
    "layer.indices[7]"
   ]
  },
  {
   "cell_type": "code",
   "execution_count": null,
   "metadata": {},
   "outputs": [],
   "source": [
    "plt.imshow(impulse_response[0, :, :, kernel_size // 2, 1])\n",
    "plt.colorbar()"
   ]
  },
  {
   "cell_type": "code",
   "execution_count": null,
   "metadata": {},
   "outputs": [],
   "source": [
    "impulse_response.shape"
   ]
  },
  {
   "cell_type": "code",
   "execution_count": null,
   "metadata": {},
   "outputs": [],
   "source": [
    "yo = layer.conv_sh.filters.numpy()\n"
   ]
  },
  {
   "cell_type": "code",
   "execution_count": null,
   "metadata": {},
   "outputs": [],
   "source": [
    "yo.shape"
   ]
  },
  {
   "cell_type": "markdown",
   "metadata": {},
   "source": []
  },
  {
   "cell_type": "code",
   "execution_count": null,
   "metadata": {},
   "outputs": [],
   "source": []
  },
  {
   "cell_type": "code",
   "execution_count": null,
   "metadata": {},
   "outputs": [],
   "source": [
    "i = layer.conv_sh.ravel_sh_index(3, 0)\n",
    "s = 1\n",
    "plt.subplot(131)\n",
    "plt.imshow(np.real(yo[:, :, s, 0, 0, i]))\n",
    "plt.colorbar()\n",
    "plt.subplot(132)\n",
    "plt.imshow(np.real(yo[:, s, :, 0, 0, i]))\n",
    "plt.colorbar()\n",
    "plt.subplot(133)\n",
    "plt.imshow(np.real(yo[s, :, :, 0, 0, i]))\n",
    "plt.colorbar()"
   ]
  },
  {
   "cell_type": "code",
   "execution_count": null,
   "metadata": {},
   "outputs": [],
   "source": [
    "layer.conv_sh.n_radial_profiles"
   ]
  },
  {
   "cell_type": "code",
   "execution_count": null,
   "metadata": {},
   "outputs": [],
   "source": []
  }
 ],
 "metadata": {
  "kernelspec": {
   "display_name": "Python 3.6.9 64-bit",
   "language": "python",
   "name": "python3"
  },
  "language_info": {
   "codemirror_mode": {
    "name": "ipython",
    "version": 3
   },
   "file_extension": ".py",
   "mimetype": "text/x-python",
   "name": "python",
   "nbconvert_exporter": "python",
   "pygments_lexer": "ipython3",
   "version": "3.11.0rc1"
  },
  "orig_nbformat": 4,
  "vscode": {
   "interpreter": {
    "hash": "31f2aee4e71d21fbe5cf8b01ff0e069b9275f58929596ceb00d14d90e3e16cd6"
   }
  }
 },
 "nbformat": 4,
 "nbformat_minor": 2
}
