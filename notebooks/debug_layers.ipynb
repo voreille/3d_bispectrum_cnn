{
 "cells": [
  {
   "cell_type": "code",
   "execution_count": null,
   "metadata": {},
   "outputs": [],
   "source": [
    "import os\n",
    "from itertools import product\n",
    "\n",
    "import tensorflow as tf\n",
    "import numpy as np\n",
    "import matplotlib.pyplot as plt\n",
    "from scipy.ndimage import rotate\n",
    "from scipy import special as sp\n",
    "import SimpleITK as sitk\n",
    "\n",
    "from src.models.layers_faster import SHConv3DRadial, BSHConv3D, SSHConv3D\n",
    "from src.models.utils import config_gpu\n",
    "# from src.models.models import ResidualSLRILayer3D, ResidualBLRILayer3D\n",
    "\n",
    "%matplotlib inline"
   ]
  },
  {
   "cell_type": "code",
   "execution_count": null,
   "metadata": {},
   "outputs": [],
   "source": [
    "# image_sitk = sitk.ReadImage(\"/home/vscode/python_wkspce/petct-seg/data/processed/CHGJ074_ct.nii.gz\")"
   ]
  },
  {
   "cell_type": "code",
   "execution_count": null,
   "metadata": {},
   "outputs": [],
   "source": [
    "config_gpu(\"0\", memory_limit=4)"
   ]
  },
  {
   "cell_type": "code",
   "execution_count": null,
   "metadata": {},
   "outputs": [],
   "source": [
    "# layer = SSHConv3D(1, 7, max_degree=3, padding=\"valid\", kernel_initializer=tf.keras.initializers.Constant(value=1.0),  project=False)\n",
    "layer = BSHConv3D(1, 5, max_degree=3, padding=\"valid\", kernel_initializer=tf.keras.initializers.Constant(value=1.0),  project=False)"
   ]
  },
  {
   "cell_type": "code",
   "execution_count": null,
   "metadata": {},
   "outputs": [],
   "source": [
    "def rotate_3d(image, angle1, angle2, angle3):\n",
    "    image = np.squeeze(image)\n",
    "    image = rotate(image, -angle1, axes=(0, 1), reshape=False)\n",
    "    image = rotate(image, angle2, axes=(1, 2), reshape=False)\n",
    "    image = rotate(image, -angle3, axes=(0, 1), reshape=False)\n",
    "    return image\n",
    "\n",
    "\n",
    "def inv_rotate_3d(image, angle1, angle2, angle3):\n",
    "    image = np.squeeze(image)\n",
    "    image = rotate(image, angle3, axes=(0, 1), reshape=False)\n",
    "    image = rotate(image, -angle2, axes=(1, 2), reshape=False)\n",
    "    image = rotate(image, angle1, axes=(0, 1), reshape=False)\n",
    "    return image"
   ]
  },
  {
   "cell_type": "code",
   "execution_count": null,
   "metadata": {},
   "outputs": [],
   "source": [
    "layer.indices[3]"
   ]
  },
  {
   "cell_type": "code",
   "execution_count": null,
   "metadata": {},
   "outputs": [],
   "source": [
    "layer.indices_inverse[(1,2,3)]\n",
    "# layer.indices_inverse[1]"
   ]
  },
  {
   "cell_type": "code",
   "execution_count": null,
   "metadata": {},
   "outputs": [],
   "source": [
    "# image = np.transpose(sitk.GetArrayFromImage(image_sitk), (2, 1, 0))\n",
    "# image = image[60:92, 60:92, 70:102]\n",
    "image = np.random.rand(32, 32, 32)\n",
    "plt.imshow(image[:, :, 15])"
   ]
  },
  {
   "cell_type": "code",
   "execution_count": null,
   "metadata": {},
   "outputs": [],
   "source": [
    "# image = np.random.rand(image.shape[0], image.shape[1], image.shape[2])"
   ]
  },
  {
   "cell_type": "code",
   "execution_count": null,
   "metadata": {},
   "outputs": [],
   "source": [
    "angle1, angle2, angle3 = 90, 90, 0\n",
    "axes = (2, 1)\n",
    "# image = np.random.uniform(size=(32, 32, 32))\n",
    "image_rotated = rotate_3d(image, angle1, angle2, angle3)\n"
   ]
  },
  {
   "cell_type": "code",
   "execution_count": null,
   "metadata": {},
   "outputs": [],
   "source": [
    "image.shape"
   ]
  },
  {
   "cell_type": "code",
   "execution_count": null,
   "metadata": {},
   "outputs": [],
   "source": [
    "output = layer(image[np.newaxis, :, :, :, np.newaxis])\n",
    "output_rotated = layer(image_rotated[np.newaxis, :, :, :, np.newaxis])"
   ]
  },
  {
   "cell_type": "code",
   "execution_count": null,
   "metadata": {},
   "outputs": [],
   "source": [
    "def psnr(x, y):\n",
    "    x_shape = x.shape\n",
    "    mse = (np.sum(np.abs(x - y)**2, axis=(1, 2, 3)) /\n",
    "           (x_shape[1] * x_shape[1] * x_shape[1]))\n",
    "    max_image = np.max(np.abs(x), axis=(1, 2, 3))\n",
    "    return 10 * np.log10(max_image**2 / mse)"
   ]
  },
  {
   "cell_type": "code",
   "execution_count": null,
   "metadata": {},
   "outputs": [],
   "source": [
    "output[0,:,:,:,3]"
   ]
  },
  {
   "cell_type": "code",
   "execution_count": null,
   "metadata": {},
   "outputs": [],
   "source": [
    "psnr(output, output_rotated)"
   ]
  },
  {
   "cell_type": "code",
   "execution_count": null,
   "metadata": {},
   "outputs": [],
   "source": [
    "def check_output_diff(output):\n",
    "    for k1 in range(output.shape[-1]):\n",
    "        if np.sum(np.abs(output[...,k1]))==0:\n",
    "            print(f\"map {layer.indices[k1]} is zero\")\n"
   ]
  },
  {
   "cell_type": "code",
   "execution_count": null,
   "metadata": {},
   "outputs": [],
   "source": [
    "output.shape"
   ]
  },
  {
   "cell_type": "code",
   "execution_count": null,
   "metadata": {},
   "outputs": [],
   "source": [
    "check_output_diff(output)"
   ]
  },
  {
   "cell_type": "code",
   "execution_count": null,
   "metadata": {},
   "outputs": [],
   "source": [
    "output.shape"
   ]
  },
  {
   "cell_type": "code",
   "execution_count": null,
   "metadata": {},
   "outputs": [],
   "source": [
    "s = np.max(np.real(output), axis=(0, 1, 2, 3))\n",
    "for i in range(s.shape[-1]):\n",
    "    print(f\"{layer.indices[i]}: {s[i]}\")"
   ]
  },
  {
   "cell_type": "code",
   "execution_count": null,
   "metadata": {},
   "outputs": [],
   "source": [
    "# s = np.sum(np.imag(output), axis=(0,1,2,3))\n",
    "# for i in range(s.shape[-1]):\n",
    "#     print(f\"{layer.indices[i]}: {s[i]}\")"
   ]
  },
  {
   "cell_type": "code",
   "execution_count": null,
   "metadata": {},
   "outputs": [],
   "source": [
    "# f_ind = layer.indices_inverse[(1, 2,3)]\n",
    "# f_ind = layer.indices_inverse[(2, 3, 5)]\n",
    "f_ind = 1\n",
    "fmap = output[0, :, :, :, f_ind]\n",
    "fmap_rotated = output_rotated[0, :, :, :, f_ind]\n",
    "fmap_unrotated = inv_rotate_3d(fmap_rotated, angle1, angle2, angle3)\n",
    "# fmap_unrotated = rotate(fmap_rotated, -90, axes=(0, 1), reshape=False)"
   ]
  },
  {
   "cell_type": "code",
   "execution_count": null,
   "metadata": {},
   "outputs": [],
   "source": [
    "s = 15\n",
    "difference = fmap - fmap_unrotated\n",
    "plt.figure(figsize=(24, 4))\n",
    "plt.subplot(131)\n",
    "plt.imshow(np.abs(difference[:, :, s]))\n",
    "plt.colorbar()\n",
    "plt.subplot(132)\n",
    "plt.imshow(np.abs(fmap[:, :, s]))\n",
    "plt.colorbar()\n",
    "plt.subplot(133)\n",
    "plt.imshow(np.abs(fmap_unrotated[:, :, s]))\n",
    "plt.colorbar()"
   ]
  },
  {
   "cell_type": "code",
   "execution_count": null,
   "metadata": {},
   "outputs": [],
   "source": [
    "np.sum(fmap[...])"
   ]
  },
  {
   "cell_type": "code",
   "execution_count": null,
   "metadata": {},
   "outputs": [],
   "source": [
    "kernel_size = 32\n",
    "dirac = np.zeros((1, kernel_size, kernel_size, kernel_size, 1))\n",
    "dirac[0, kernel_size // 2, kernel_size // 2, kernel_size // 2, 0] = 1\n",
    "plt.imshow(dirac[0, :, :, kernel_size//2, 0])"
   ]
  },
  {
   "cell_type": "code",
   "execution_count": null,
   "metadata": {},
   "outputs": [],
   "source": [
    "impulse_response = layer(dirac)"
   ]
  },
  {
   "cell_type": "code",
   "execution_count": null,
   "metadata": {},
   "outputs": [],
   "source": [
    "plt.imshow(impulse_response[0, :, :, kernel_size // 2, 1])\n",
    "plt.colorbar()"
   ]
  },
  {
   "cell_type": "code",
   "execution_count": null,
   "metadata": {},
   "outputs": [],
   "source": [
    "impulse_response.shape"
   ]
  },
  {
   "cell_type": "code",
   "execution_count": null,
   "metadata": {},
   "outputs": [],
   "source": [
    "atoms = layer.conv_sh.atoms.numpy()"
   ]
  },
  {
   "cell_type": "code",
   "execution_count": null,
   "metadata": {},
   "outputs": [],
   "source": [
    "plt.imshow(np.imag(atoms)[:,:,1,0, 1])\n",
    "plt.colorbar()"
   ]
  },
  {
   "cell_type": "code",
   "execution_count": null,
   "metadata": {},
   "outputs": [],
   "source": [
    "layer.conv_sh.n_radial_profiles"
   ]
  },
  {
   "cell_type": "code",
   "execution_count": null,
   "metadata": {},
   "outputs": [],
   "source": []
  }
 ],
 "metadata": {
  "kernelspec": {
   "display_name": "Python 3.6.9 64-bit",
   "language": "python",
   "name": "python3"
  },
  "language_info": {
   "codemirror_mode": {
    "name": "ipython",
    "version": 3
   },
   "file_extension": ".py",
   "mimetype": "text/x-python",
   "name": "python",
   "nbconvert_exporter": "python",
   "pygments_lexer": "ipython3",
   "version": "3.11.0"
  },
  "orig_nbformat": 4,
  "vscode": {
   "interpreter": {
    "hash": "31f2aee4e71d21fbe5cf8b01ff0e069b9275f58929596ceb00d14d90e3e16cd6"
   }
  }
 },
 "nbformat": 4,
 "nbformat_minor": 2
}
