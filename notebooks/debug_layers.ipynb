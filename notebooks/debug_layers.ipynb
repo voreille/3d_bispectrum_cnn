{
 "cells": [
  {
   "cell_type": "code",
   "execution_count": 2,
   "metadata": {},
   "outputs": [],
   "source": [
    "import os\n",
    "from itertools import product\n",
    "\n",
    "import tensorflow as tf\n",
    "import numpy as np\n",
    "import matplotlib.pyplot as plt\n",
    "from scipy.ndimage import rotate\n",
    "from scipy import special as sp\n",
    "import SimpleITK as sitk\n",
    "\n",
    "from src.models.layers import SHConv3DRadial, BSHConv3D, SSHConv3D\n",
    "\n",
    "%matplotlib inline"
   ]
  },
  {
   "cell_type": "code",
   "execution_count": 3,
   "metadata": {},
   "outputs": [],
   "source": [
    "image_sitk = sitk.ReadImage(\"/home/vscode/python_wkspce/petct-seg/data/processed/CHGJ074_ct.nii.gz\")"
   ]
  },
  {
   "cell_type": "code",
   "execution_count": 4,
   "metadata": {},
   "outputs": [],
   "source": [
    "os.environ[\"CUDA_VISIBLE_DEVICES\"] = \"1\""
   ]
  },
  {
   "cell_type": "code",
   "execution_count": 5,
   "metadata": {},
   "outputs": [],
   "source": [
    "layer = BSHConv3D(1, 5, max_degree=5, padding=\"valid\", initializer=tf.keras.initializers.Constant(value=1.0),  project=False)"
   ]
  },
  {
   "cell_type": "code",
   "execution_count": 6,
   "metadata": {},
   "outputs": [],
   "source": [
    "def rotate_3d(image, angle1, angle2, angle3):\n",
    "    image = np.squeeze(image)\n",
    "    image = rotate(image, -angle1, axes=(0, 1), reshape=False)\n",
    "    image = rotate(image, angle2, axes=(1, 2), reshape=False)\n",
    "    image = rotate(image, -angle3, axes=(0, 1), reshape=False)\n",
    "    return image\n",
    "\n",
    "\n",
    "def inv_rotate_3d(image, angle1, angle2, angle3):\n",
    "    image = np.squeeze(image)\n",
    "    image = rotate(image, angle3, axes=(0, 1), reshape=False)\n",
    "    image = rotate(image, -angle2, axes=(1, 2), reshape=False)\n",
    "    image = rotate(image, angle1, axes=(0, 1), reshape=False)\n",
    "    return image"
   ]
  },
  {
   "cell_type": "code",
   "execution_count": 7,
   "metadata": {},
   "outputs": [
    {
     "data": {
      "text/plain": [
       "(2, 2, 2)"
      ]
     },
     "execution_count": 7,
     "metadata": {},
     "output_type": "execute_result"
    }
   ],
   "source": [
    "layer.indices[15]"
   ]
  },
  {
   "cell_type": "code",
   "execution_count": 8,
   "metadata": {},
   "outputs": [
    {
     "data": {
      "text/plain": [
       "9"
      ]
     },
     "execution_count": 8,
     "metadata": {},
     "output_type": "execute_result"
    }
   ],
   "source": [
    "layer.indices_inverse[(1,2,3)]\n",
    "# layer.indices_inverse[1]"
   ]
  },
  {
   "cell_type": "code",
   "execution_count": 20,
   "metadata": {},
   "outputs": [
    {
     "data": {
      "text/plain": [
       "<matplotlib.image.AxesImage at 0x7f257c152d30>"
      ]
     },
     "execution_count": 20,
     "metadata": {},
     "output_type": "execute_result"
    },
    {
     "data": {
      "image/png": "[encoded data removed]",
      "text/plain": [
       "<Figure size 432x288 with 1 Axes>"
      ]
     },
     "metadata": {
      "needs_background": "light"
     },
     "output_type": "display_data"
    }
   ],
   "source": [
    "image = np.transpose(sitk.GetArrayFromImage(image_sitk), (2, 1, 0))\n",
    "image = image[60:92, 60:92, 70:102]\n",
    "plt.imshow(image[:, :, 15])"
   ]
  },
  {
   "cell_type": "code",
   "execution_count": 21,
   "metadata": {},
   "outputs": [],
   "source": [
    "# image = np.random.rand(image.shape[0], image.shape[1], image.shape[2])"
   ]
  },
  {
   "cell_type": "code",
   "execution_count": 22,
   "metadata": {},
   "outputs": [],
   "source": [
    "angle1, angle2, angle3 = 90, 90, 0\n",
    "axes = (2, 1)\n",
    "# image = np.random.uniform(size=(32, 32, 32))\n",
    "image_rotated = rotate_3d(image, angle1, angle2, angle3)\n"
   ]
  },
  {
   "cell_type": "code",
   "execution_count": 23,
   "metadata": {},
   "outputs": [
    {
     "data": {
      "text/plain": [
       "(32, 32, 32)"
      ]
     },
     "execution_count": 23,
     "metadata": {},
     "output_type": "execute_result"
    }
   ],
   "source": [
    "image.shape"
   ]
  },
  {
   "cell_type": "code",
   "execution_count": 24,
   "metadata": {},
   "outputs": [],
   "source": [
    "output = layer(image[np.newaxis, :, :, :, np.newaxis])\n",
    "output_rotated = layer(image_rotated[np.newaxis, :, :, :, np.newaxis])"
   ]
  },
  {
   "cell_type": "code",
   "execution_count": 25,
   "metadata": {},
   "outputs": [],
   "source": [
    "def check_output_diff(output):\n",
    "    for k1 in range(output.shape[-1]):\n",
    "        if np.sum(np.abs(output[...,k1]))==0:\n",
    "            print(f\"map {layer.indices[k1]} is zero\")\n"
   ]
  },
  {
   "cell_type": "code",
   "execution_count": 26,
   "metadata": {},
   "outputs": [
    {
     "data": {
      "text/plain": [
       "TensorShape([1, 28, 28, 28, 23])"
      ]
     },
     "execution_count": 26,
     "metadata": {},
     "output_type": "execute_result"
    }
   ],
   "source": [
    "output.shape"
   ]
  },
  {
   "cell_type": "code",
   "execution_count": 27,
   "metadata": {},
   "outputs": [],
   "source": [
    "check_output_diff(output)"
   ]
  },
  {
   "cell_type": "code",
   "execution_count": 28,
   "metadata": {},
   "outputs": [
    {
     "data": {
      "text/plain": [
       "TensorShape([1, 28, 28, 28, 23])"
      ]
     },
     "execution_count": 28,
     "metadata": {},
     "output_type": "execute_result"
    }
   ],
   "source": [
    "output.shape"
   ]
  },
  {
   "cell_type": "code",
   "execution_count": 29,
   "metadata": {},
   "outputs": [
    {
     "name": "stdout",
     "output_type": "stream",
     "text": [
      "(0, 0, 0): 5688354930688.0\n",
      "(0, 1, 1): 601410699264.0\n",
      "(0, 2, 2): 241215340544.0\n",
      "(0, 3, 3): 65423859712.0\n",
      "(1, 1, 0): 31413394.0\n",
      "(1, 1, 1): 992.6273193359375\n",
      "(1, 1, 2): 61752385536.0\n",
      "(1, 2, 1): 48046735360.0\n",
      "(1, 2, 2): 864.0\n",
      "(1, 2, 3): 17685622784.0\n",
      "(1, 3, 2): 6411209216.0\n",
      "(1, 3, 3): 184.0\n",
      "(1, 3, 4): 7602788864.0\n",
      "(2, 2, 0): 107874787328.0\n",
      "(2, 2, 1): 429.3610534667969\n",
      "(2, 2, 2): 44637224960.0\n",
      "(2, 2, 3): 295.026611328125\n",
      "(2, 2, 4): 30265528320.0\n",
      "(2, 3, 1): 11577958400.0\n",
      "(2, 3, 2): 512.0\n",
      "(2, 3, 3): 5941633536.0\n",
      "(2, 3, 4): 2214574080.0\n",
      "(2, 3, 5): 3245891584.0\n"
     ]
    }
   ],
   "source": [
    "s = np.max(np.real(output), axis=(0,1,2,3))\n",
    "for i in range(s.shape[-1]):\n",
    "    print(f\"{layer.indices[i]}: {s[i]}\")"
   ]
  },
  {
   "cell_type": "code",
   "execution_count": 17,
   "metadata": {},
   "outputs": [],
   "source": [
    "# s = np.sum(np.imag(output), axis=(0,1,2,3))\n",
    "# for i in range(s.shape[-1]):\n",
    "#     print(f\"{layer.indices[i]}: {s[i]}\")"
   ]
  },
  {
   "cell_type": "code",
   "execution_count": 20,
   "metadata": {},
   "outputs": [],
   "source": [
    "f_ind = layer.indices_inverse[(1, 1,2)]\n",
    "# f_ind = layer.indices_inverse[(2, 3, 5)]\n",
    "fmap = output[0, :, :, :, f_ind]\n",
    "fmap_rotated = output_rotated[0, :, :, :, f_ind]\n",
    "fmap_unrotated = inv_rotate_3d(fmap_rotated, angle1, angle2, angle3)\n",
    "# fmap_unrotated = rotate(fmap_rotated, -90, axes=(0, 1), reshape=False)"
   ]
  },
  {
   "cell_type": "code",
   "execution_count": 21,
   "metadata": {},
   "outputs": [
    {
     "data": {
      "text/plain": [
       "<matplotlib.colorbar.Colorbar at 0x7fd940303100>"
      ]
     },
     "execution_count": 21,
     "metadata": {},
     "output_type": "execute_result"
    },
    {
     "data": {
      "image/png": "[encoded data removed]",
      "text/plain": [
       "<Figure size 1728x288 with 6 Axes>"
      ]
     },
     "metadata": {
      "needs_background": "light"
     },
     "output_type": "display_data"
    }
   ],
   "source": [
    "s = 15\n",
    "difference = fmap - fmap_unrotated\n",
    "plt.figure(figsize=(24, 4))\n",
    "plt.subplot(131)\n",
    "plt.imshow(np.abs(difference[:, :, s]))\n",
    "plt.colorbar()\n",
    "plt.subplot(132)\n",
    "plt.imshow(np.abs(fmap[:, :, s]))\n",
    "plt.colorbar()\n",
    "plt.subplot(133)\n",
    "plt.imshow(np.abs(fmap_unrotated[:, :, s]))\n",
    "plt.colorbar()"
   ]
  },
  {
   "cell_type": "code",
   "execution_count": null,
   "metadata": {},
   "outputs": [],
   "source": [
    "np.sum(fmap[...])"
   ]
  },
  {
   "cell_type": "code",
   "execution_count": null,
   "metadata": {},
   "outputs": [],
   "source": [
    "kernel_size = 32\n",
    "dirac = np.zeros((1, kernel_size, kernel_size, kernel_size, 1))\n",
    "dirac[0, kernel_size // 2, kernel_size // 2, kernel_size // 2, 0] = 1\n",
    "plt.imshow(dirac[0, :, :, kernel_size//2, 0])"
   ]
  },
  {
   "cell_type": "code",
   "execution_count": null,
   "metadata": {},
   "outputs": [],
   "source": [
    "impulse_response = layer(dirac)"
   ]
  },
  {
   "cell_type": "code",
   "execution_count": null,
   "metadata": {},
   "outputs": [],
   "source": [
    "layer.indices[7]"
   ]
  },
  {
   "cell_type": "code",
   "execution_count": null,
   "metadata": {},
   "outputs": [],
   "source": [
    "plt.imshow(impulse_response[0, :, :, kernel_size // 2, 1])\n",
    "plt.colorbar()"
   ]
  },
  {
   "cell_type": "code",
   "execution_count": null,
   "metadata": {},
   "outputs": [],
   "source": [
    "impulse_response.shape"
   ]
  },
  {
   "cell_type": "code",
   "execution_count": null,
   "metadata": {},
   "outputs": [],
   "source": [
    "filters = layer.conv_ch.filters"
   ]
  },
  {
   "cell_type": "code",
   "execution_count": null,
   "metadata": {},
   "outputs": [],
   "source": []
  }
 ],
 "metadata": {
  "kernelspec": {
   "display_name": "Python 3.6.9 64-bit",
   "language": "python",
   "name": "python3"
  },
  "language_info": {
   "codemirror_mode": {
    "name": "ipython",
    "version": 3
   },
   "file_extension": ".py",
   "mimetype": "text/x-python",
   "name": "python",
   "nbconvert_exporter": "python",
   "pygments_lexer": "ipython3",
   "version": "3.8.10"
  },
  "orig_nbformat": 4,
  "vscode": {
   "interpreter": {
    "hash": "31f2aee4e71d21fbe5cf8b01ff0e069b9275f58929596ceb00d14d90e3e16cd6"
   }
  }
 },
 "nbformat": 4,
 "nbformat_minor": 2
}
