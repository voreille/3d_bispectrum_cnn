{
 "cells": [
  {
   "cell_type": "code",
   "execution_count": 1,
   "metadata": {},
   "outputs": [],
   "source": [
    "import os\n",
    "from itertools import product\n",
    "\n",
    "import tensorflow as tf\n",
    "import numpy as np\n",
    "import matplotlib.pyplot as plt\n",
    "from scipy.ndimage import rotate\n",
    "from scipy import special as sp\n",
    "import SimpleITK as sitk\n",
    "\n",
    "from src.models.layers import SHConv3DRadial, BSHConv3D, SSHConv3D"
   ]
  },
  {
   "cell_type": "code",
   "execution_count": 2,
   "metadata": {},
   "outputs": [],
   "source": [
    "image_sitk = sitk.ReadImage(\"/home/valentin/python_wkspce/petct-seg/data/processed/CHGJ074_ct.nii.gz\")"
   ]
  },
  {
   "cell_type": "code",
   "execution_count": 3,
   "metadata": {},
   "outputs": [],
   "source": [
    "os.environ[\"CUDA_VISIBLE_DEVICES\"] = \"1\""
   ]
  },
  {
   "cell_type": "code",
   "execution_count": 4,
   "metadata": {},
   "outputs": [],
   "source": [
    "layer = BSHConv3D(1, 5, max_degree=5, padding=\"valid\", initializer=tf.keras.initializers.Constant(value=1.0),  project=False)"
   ]
  },
  {
   "cell_type": "code",
   "execution_count": 5,
   "metadata": {},
   "outputs": [
    {
     "ename": "AttributeError",
     "evalue": "'SHConv3DRadial' object has no attribute 'w0'",
     "output_type": "error",
     "traceback": [
      "\u001b[0;31m---------------------------------------------------------------------------\u001b[0m",
      "\u001b[0;31mAttributeError\u001b[0m                            Traceback (most recent call last)",
      "\u001b[0;32m<ipython-input-5-6cbdce8dc60e>\u001b[0m in \u001b[0;36m<module>\u001b[0;34m\u001b[0m\n\u001b[0;32m----> 1\u001b[0;31m \u001b[0msh_filters\u001b[0m \u001b[0;34m=\u001b[0m \u001b[0mlayer\u001b[0m\u001b[0;34m.\u001b[0m\u001b[0mconv_sh\u001b[0m\u001b[0;34m.\u001b[0m\u001b[0mfilters\u001b[0m\u001b[0;34m\u001b[0m\u001b[0;34m\u001b[0m\u001b[0m\n\u001b[0m\u001b[1;32m      2\u001b[0m \u001b[0msh_filters\u001b[0m\u001b[0;34m.\u001b[0m\u001b[0mshape\u001b[0m\u001b[0;34m\u001b[0m\u001b[0;34m\u001b[0m\u001b[0m\n",
      "\u001b[0;32m~/python_wkspce/3d_bispectrum_cnn/src/models/layers.py\u001b[0m in \u001b[0;36mfilters\u001b[0;34m(self)\u001b[0m\n\u001b[1;32m    502\u001b[0m     \u001b[0;32mdef\u001b[0m \u001b[0mfilters\u001b[0m\u001b[0;34m(\u001b[0m\u001b[0mself\u001b[0m\u001b[0;34m)\u001b[0m\u001b[0;34m:\u001b[0m\u001b[0;34m\u001b[0m\u001b[0;34m\u001b[0m\u001b[0m\n\u001b[1;32m    503\u001b[0m         \u001b[0matoms0\u001b[0m\u001b[0;34m,\u001b[0m \u001b[0matoms\u001b[0m \u001b[0;34m=\u001b[0m \u001b[0mself\u001b[0m\u001b[0;34m.\u001b[0m\u001b[0matoms\u001b[0m\u001b[0;34m\u001b[0m\u001b[0;34m\u001b[0m\u001b[0m\n\u001b[0;32m--> 504\u001b[0;31m         \u001b[0mw0\u001b[0m \u001b[0;34m=\u001b[0m \u001b[0mtf\u001b[0m\u001b[0;34m.\u001b[0m\u001b[0mcomplex\u001b[0m\u001b[0;34m(\u001b[0m\u001b[0mself\u001b[0m\u001b[0;34m.\u001b[0m\u001b[0mw0\u001b[0m\u001b[0;34m,\u001b[0m \u001b[0;36m0.0\u001b[0m\u001b[0;34m)\u001b[0m\u001b[0;34m\u001b[0m\u001b[0;34m\u001b[0m\u001b[0m\n\u001b[0m\u001b[1;32m    505\u001b[0m         \u001b[0mw\u001b[0m \u001b[0;34m=\u001b[0m \u001b[0mtf\u001b[0m\u001b[0;34m.\u001b[0m\u001b[0mcomplex\u001b[0m\u001b[0;34m(\u001b[0m\u001b[0mself\u001b[0m\u001b[0;34m.\u001b[0m\u001b[0mw\u001b[0m\u001b[0;34m,\u001b[0m \u001b[0;36m0.0\u001b[0m\u001b[0;34m)\u001b[0m\u001b[0;34m\u001b[0m\u001b[0;34m\u001b[0m\u001b[0m\n\u001b[1;32m    506\u001b[0m         factor = tf.concat(\n",
      "\u001b[0;31mAttributeError\u001b[0m: 'SHConv3DRadial' object has no attribute 'w0'"
     ]
    }
   ],
   "source": [
    "sh_filters = layer.conv_sh.filters\n",
    "sh_filters.shape"
   ]
  },
  {
   "cell_type": "code",
   "execution_count": 6,
   "metadata": {},
   "outputs": [
    {
     "ename": "NameError",
     "evalue": "name 'sh_filters' is not defined",
     "output_type": "error",
     "traceback": [
      "\u001b[0;31m---------------------------------------------------------------------------\u001b[0m",
      "\u001b[0;31mNameError\u001b[0m                                 Traceback (most recent call last)",
      "\u001b[0;32m<ipython-input-6-5550b673a4ed>\u001b[0m in \u001b[0;36m<module>\u001b[0;34m\u001b[0m\n\u001b[1;32m      4\u001b[0m \u001b[0;32mif\u001b[0m \u001b[0maxis\u001b[0m \u001b[0;34m==\u001b[0m \u001b[0;34m\"x-y\"\u001b[0m\u001b[0;34m:\u001b[0m\u001b[0;34m\u001b[0m\u001b[0;34m\u001b[0m\u001b[0m\n\u001b[1;32m      5\u001b[0m     \u001b[0mplt\u001b[0m\u001b[0;34m.\u001b[0m\u001b[0msubplot\u001b[0m\u001b[0;34m(\u001b[0m\u001b[0;36m1\u001b[0m\u001b[0;34m,\u001b[0m \u001b[0;36m2\u001b[0m\u001b[0;34m,\u001b[0m \u001b[0;36m1\u001b[0m\u001b[0;34m)\u001b[0m\u001b[0;34m\u001b[0m\u001b[0;34m\u001b[0m\u001b[0m\n\u001b[0;32m----> 6\u001b[0;31m     \u001b[0mplt\u001b[0m\u001b[0;34m.\u001b[0m\u001b[0mimshow\u001b[0m\u001b[0;34m(\u001b[0m\u001b[0mnp\u001b[0m\u001b[0;34m.\u001b[0m\u001b[0mreal\u001b[0m\u001b[0;34m(\u001b[0m\u001b[0msh_filters\u001b[0m\u001b[0;34m[\u001b[0m\u001b[0;34m:\u001b[0m\u001b[0;34m,\u001b[0m \u001b[0;34m:\u001b[0m\u001b[0;34m,\u001b[0m \u001b[0;36m2\u001b[0m\u001b[0;34m,\u001b[0m \u001b[0;36m0\u001b[0m\u001b[0;34m,\u001b[0m \u001b[0;36m0\u001b[0m\u001b[0;34m,\u001b[0m \u001b[0mn_filter\u001b[0m\u001b[0;34m]\u001b[0m\u001b[0;34m)\u001b[0m\u001b[0;34m)\u001b[0m\u001b[0;34m\u001b[0m\u001b[0;34m\u001b[0m\u001b[0m\n\u001b[0m\u001b[1;32m      7\u001b[0m     \u001b[0mplt\u001b[0m\u001b[0;34m.\u001b[0m\u001b[0mcolorbar\u001b[0m\u001b[0;34m(\u001b[0m\u001b[0;34m)\u001b[0m\u001b[0;34m\u001b[0m\u001b[0;34m\u001b[0m\u001b[0m\n\u001b[1;32m      8\u001b[0m     \u001b[0mplt\u001b[0m\u001b[0;34m.\u001b[0m\u001b[0msubplot\u001b[0m\u001b[0;34m(\u001b[0m\u001b[0;36m1\u001b[0m\u001b[0;34m,\u001b[0m \u001b[0;36m2\u001b[0m\u001b[0;34m,\u001b[0m \u001b[0;36m2\u001b[0m\u001b[0;34m)\u001b[0m\u001b[0;34m\u001b[0m\u001b[0;34m\u001b[0m\u001b[0m\n",
      "\u001b[0;31mNameError\u001b[0m: name 'sh_filters' is not defined"
     ]
    },
    {
     "data": {
      "image/png": "[encoded data removed]",
      "text/plain": [
       "<Figure size 432x288 with 1 Axes>"
      ]
     },
     "metadata": {
      "needs_background": "light"
     },
     "output_type": "display_data"
    }
   ],
   "source": [
    "n_filter = 1\n",
    "axis = \"x-y\"\n",
    "# axis = \"x-z\"\n",
    "if axis == \"x-y\":\n",
    "    plt.subplot(1, 2, 1)\n",
    "    plt.imshow(np.real(sh_filters[:, :, 2, 0, 0, n_filter]))\n",
    "    plt.colorbar()\n",
    "    plt.subplot(1, 2, 2)\n",
    "    plt.imshow(np.imag(sh_filters[:, :, 2, 0, 0, n_filter]))\n",
    "    plt.colorbar()\n",
    "else:\n",
    "    plt.subplot(1, 2, 1)\n",
    "    plt.imshow(np.real(sh_filters[:, 2, :, 0, 0, n_filter]))\n",
    "    plt.colorbar()\n",
    "    plt.subplot(1, 2, 2)\n",
    "    plt.imshow(np.imag(sh_filters[:, 2, :, 0, 0, n_filter]))\n",
    "    plt.colorbar()\n"
   ]
  },
  {
   "cell_type": "code",
   "execution_count": 7,
   "metadata": {},
   "outputs": [],
   "source": [
    "def rotate_3d(image, angle1, angle2, angle3):\n",
    "    image = np.squeeze(image)\n",
    "    image = rotate(image, -angle1, axes=(0, 1), reshape=False)\n",
    "    image = rotate(image, angle2, axes=(1, 2), reshape=False)\n",
    "    image = rotate(image, -angle3, axes=(0, 1), reshape=False)\n",
    "    return image\n",
    "\n",
    "\n",
    "def inv_rotate_3d(image, angle1, angle2, angle3):\n",
    "    image = np.squeeze(image)\n",
    "    image = rotate(image, angle3, axes=(0, 1), reshape=False)\n",
    "    image = rotate(image, -angle2, axes=(1, 2), reshape=False)\n",
    "    image = rotate(image, angle1, axes=(0, 1), reshape=False)\n",
    "    return image"
   ]
  },
  {
   "cell_type": "code",
   "execution_count": 8,
   "metadata": {},
   "outputs": [
    {
     "data": {
      "text/plain": [
       "(2, 2, 2)"
      ]
     },
     "execution_count": 8,
     "metadata": {},
     "output_type": "execute_result"
    }
   ],
   "source": [
    "layer.indices[15]"
   ]
  },
  {
   "cell_type": "code",
   "execution_count": 9,
   "metadata": {},
   "outputs": [
    {
     "data": {
      "text/plain": [
       "9"
      ]
     },
     "execution_count": 9,
     "metadata": {},
     "output_type": "execute_result"
    }
   ],
   "source": [
    "layer.indices_inverse[(1,2,3)]\n",
    "# layer.indices_inverse[1]"
   ]
  },
  {
   "cell_type": "code",
   "execution_count": 10,
   "metadata": {},
   "outputs": [
    {
     "data": {
      "text/plain": [
       "<matplotlib.image.AxesImage at 0x7fc26c75a198>"
      ]
     },
     "execution_count": 10,
     "metadata": {},
     "output_type": "execute_result"
    },
    {
     "data": {
      "image/png": "[encoded data removed]",
      "text/plain": [
       "<Figure size 432x288 with 1 Axes>"
      ]
     },
     "metadata": {
      "needs_background": "light"
     },
     "output_type": "display_data"
    }
   ],
   "source": [
    "image = np.transpose(sitk.GetArrayFromImage(image_sitk), (2, 1, 0))\n",
    "image = image[60:92, 60:92, 70:102]\n",
    "plt.imshow(image[:, :, 15])"
   ]
  },
  {
   "cell_type": "code",
   "execution_count": 11,
   "metadata": {},
   "outputs": [],
   "source": [
    "angle1, angle2, angle3 = 90, 90, 0\n",
    "axes = (2, 1)\n",
    "# image = np.random.uniform(size=(32, 32, 32))\n",
    "image_rotated = rotate_3d(image, angle1, angle2, angle3)\n"
   ]
  },
  {
   "cell_type": "code",
   "execution_count": 12,
   "metadata": {},
   "outputs": [
    {
     "data": {
      "text/plain": [
       "(32, 32, 32)"
      ]
     },
     "execution_count": 12,
     "metadata": {},
     "output_type": "execute_result"
    }
   ],
   "source": [
    "image.shape"
   ]
  },
  {
   "cell_type": "code",
   "execution_count": 13,
   "metadata": {},
   "outputs": [],
   "source": [
    "output = layer(image[np.newaxis, :, :, :, np.newaxis])\n",
    "output_rotated = layer(image_rotated[np.newaxis, :, :, :, np.newaxis])"
   ]
  },
  {
   "cell_type": "code",
   "execution_count": 14,
   "metadata": {},
   "outputs": [],
   "source": [
    "def check_output_diff(output):\n",
    "    for k1 in range(output.shape[-1]):\n",
    "        if np.sum(np.abs(output[...,k1]))==0:\n",
    "            print(f\"map {layer.indices[k1]} is zero\")\n"
   ]
  },
  {
   "cell_type": "code",
   "execution_count": 15,
   "metadata": {},
   "outputs": [
    {
     "data": {
      "text/plain": [
       "TensorShape([1, 28, 28, 28, 23])"
      ]
     },
     "execution_count": 15,
     "metadata": {},
     "output_type": "execute_result"
    }
   ],
   "source": [
    "output.shape"
   ]
  },
  {
   "cell_type": "code",
   "execution_count": 16,
   "metadata": {},
   "outputs": [],
   "source": [
    "check_output_diff(output)"
   ]
  },
  {
   "cell_type": "code",
   "execution_count": 17,
   "metadata": {},
   "outputs": [
    {
     "data": {
      "text/plain": [
       "(1, 1, 0)"
      ]
     },
     "execution_count": 17,
     "metadata": {},
     "output_type": "execute_result"
    }
   ],
   "source": [
    "layer.indices[4]"
   ]
  },
  {
   "cell_type": "code",
   "execution_count": 18,
   "metadata": {},
   "outputs": [
    {
     "data": {
      "text/plain": [
       "TensorShape([1, 28, 28, 28, 23])"
      ]
     },
     "execution_count": 18,
     "metadata": {},
     "output_type": "execute_result"
    }
   ],
   "source": [
    "output.shape"
   ]
  },
  {
   "cell_type": "code",
   "execution_count": 19,
   "metadata": {},
   "outputs": [
    {
     "name": "stdout",
     "output_type": "stream",
     "text": [
      "(0, 0, 0): 5688354930688.0\n",
      "(0, 1, 1): 601410699264.0\n",
      "(0, 2, 2): 241215340544.0\n",
      "(0, 3, 3): 65423859712.0\n",
      "(1, 1, 0): 31413394.0\n",
      "(1, 1, 1): 992.6273193359375\n",
      "(1, 1, 2): 61752385536.0\n",
      "(1, 2, 1): 48046735360.0\n",
      "(1, 2, 2): 864.0\n",
      "(1, 2, 3): 17685622784.0\n",
      "(1, 3, 2): 6411209216.0\n",
      "(1, 3, 3): 184.0\n",
      "(1, 3, 4): 7602788864.0\n",
      "(2, 2, 0): 107874787328.0\n",
      "(2, 2, 1): 429.3610534667969\n",
      "(2, 2, 2): 44637224960.0\n",
      "(2, 2, 3): 295.026611328125\n",
      "(2, 2, 4): 30265528320.0\n",
      "(2, 3, 1): 11577958400.0\n",
      "(2, 3, 2): 512.0\n",
      "(2, 3, 3): 5941633536.0\n",
      "(2, 3, 4): 2214574080.0\n",
      "(2, 3, 5): 3245891584.0\n"
     ]
    }
   ],
   "source": [
    "s = np.max(np.real(output), axis=(0,1,2,3))\n",
    "for i in range(s.shape[-1]):\n",
    "    print(f\"{layer.indices[i]}: {s[i]}\")"
   ]
  },
  {
   "cell_type": "code",
   "execution_count": 20,
   "metadata": {},
   "outputs": [
    {
     "data": {
      "text/plain": [
       "44637225000.0"
      ]
     },
     "execution_count": 20,
     "metadata": {},
     "output_type": "execute_result"
    }
   ],
   "source": [
    "s[15]"
   ]
  },
  {
   "cell_type": "code",
   "execution_count": 21,
   "metadata": {},
   "outputs": [
    {
     "name": "stdout",
     "output_type": "stream",
     "text": [
      "(0, 0, 0): 0.0\n",
      "(0, 1, 1): 0.0\n",
      "(0, 2, 2): 0.0\n",
      "(0, 3, 3): 0.0\n",
      "(1, 1, 0): 0.0\n",
      "(1, 1, 1): 0.0\n",
      "(1, 1, 2): 0.0\n",
      "(1, 2, 1): 0.0\n",
      "(1, 2, 2): 0.0\n",
      "(1, 2, 3): 0.0\n",
      "(1, 3, 2): 0.0\n",
      "(1, 3, 3): 0.0\n",
      "(1, 3, 4): 0.0\n",
      "(2, 2, 0): 0.0\n",
      "(2, 2, 1): 0.0\n",
      "(2, 2, 2): 0.0\n",
      "(2, 2, 3): 0.0\n",
      "(2, 2, 4): 0.0\n",
      "(2, 3, 1): 0.0\n",
      "(2, 3, 2): 0.0\n",
      "(2, 3, 3): 0.0\n",
      "(2, 3, 4): 0.0\n",
      "(2, 3, 5): 0.0\n"
     ]
    }
   ],
   "source": [
    "s = np.sum(np.imag(output), axis=(0,1,2,3))\n",
    "for i in range(s.shape[-1]):\n",
    "    print(f\"{layer.indices[i]}: {s[i]}\")"
   ]
  },
  {
   "cell_type": "code",
   "execution_count": 22,
   "metadata": {},
   "outputs": [],
   "source": [
    "f_ind = layer.indices_inverse[(1, 1, 2)]\n",
    "# f_ind = layer.indices_inverse[(2, 3, 5)]\n",
    "fmap = output[0, :, :, :, f_ind]\n",
    "fmap_rotated = output_rotated[0, :, :, :, f_ind]\n",
    "fmap_unrotated = inv_rotate_3d(fmap_rotated, angle1, angle2, angle3)\n",
    "# fmap_unrotated = rotate(fmap_rotated, -90, axes=(0, 1), reshape=False)"
   ]
  },
  {
   "cell_type": "code",
   "execution_count": 23,
   "metadata": {},
   "outputs": [
    {
     "data": {
      "text/plain": [
       "<matplotlib.colorbar.Colorbar at 0x7fc26c595550>"
      ]
     },
     "execution_count": 23,
     "metadata": {},
     "output_type": "execute_result"
    },
    {
     "data": {
      "image/png": "[encoded data removed]",
      "text/plain": [
       "<Figure size 1728x288 with 6 Axes>"
      ]
     },
     "metadata": {
      "needs_background": "light"
     },
     "output_type": "display_data"
    }
   ],
   "source": [
    "s = 15\n",
    "difference = fmap - fmap_unrotated\n",
    "plt.figure(figsize=(24, 4))\n",
    "plt.subplot(131)\n",
    "plt.imshow(np.abs(difference[:, :, s]))\n",
    "plt.colorbar()\n",
    "plt.subplot(132)\n",
    "plt.imshow(np.abs(fmap[:, :, s]))\n",
    "plt.colorbar()\n",
    "plt.subplot(133)\n",
    "plt.imshow(np.abs(fmap_unrotated[:, :, s]))\n",
    "plt.colorbar()"
   ]
  },
  {
   "cell_type": "code",
   "execution_count": null,
   "metadata": {},
   "outputs": [],
   "source": [
    "np.sum(fmap[...])"
   ]
  },
  {
   "cell_type": "code",
   "execution_count": null,
   "metadata": {},
   "outputs": [],
   "source": [
    "kernel_size = 32\n",
    "dirac = np.zeros((1, kernel_size, kernel_size, kernel_size, 1))\n",
    "dirac[0, kernel_size // 2, kernel_size // 2, kernel_size // 2, 0] = 1\n",
    "plt.imshow(dirac[0, :, :, kernel_size//2, 0])"
   ]
  },
  {
   "cell_type": "code",
   "execution_count": null,
   "metadata": {},
   "outputs": [],
   "source": [
    "impulse_response = layer(dirac)"
   ]
  },
  {
   "cell_type": "code",
   "execution_count": null,
   "metadata": {},
   "outputs": [],
   "source": [
    "layer.indices[7]"
   ]
  },
  {
   "cell_type": "code",
   "execution_count": null,
   "metadata": {},
   "outputs": [],
   "source": [
    "plt.imshow(impulse_response[0, :, :, kernel_size // 2, 1])\n",
    "plt.colorbar()"
   ]
  },
  {
   "cell_type": "code",
   "execution_count": null,
   "metadata": {},
   "outputs": [],
   "source": [
    "impulse_response.shape"
   ]
  },
  {
   "cell_type": "code",
   "execution_count": null,
   "metadata": {},
   "outputs": [],
   "source": [
    "filters = layer.conv_ch.filters"
   ]
  },
  {
   "cell_type": "code",
   "execution_count": null,
   "metadata": {},
   "outputs": [],
   "source": []
  }
 ],
 "metadata": {
  "kernelspec": {
   "display_name": "Python 3.6.9 ('env': virtualenv)",
   "language": "python",
   "name": "python3"
  },
  "language_info": {
   "codemirror_mode": {
    "name": "ipython",
    "version": 3
   },
   "file_extension": ".py",
   "mimetype": "text/x-python",
   "name": "python",
   "nbconvert_exporter": "python",
   "pygments_lexer": "ipython3",
   "version": "3.6.9"
  },
  "orig_nbformat": 4,
  "vscode": {
   "interpreter": {
    "hash": "e1bcd3f1250924f6d57b9ce9f8a011716152354b24e26825996d84b9332aef6a"
   }
  }
 },
 "nbformat": 4,
 "nbformat_minor": 2
}
