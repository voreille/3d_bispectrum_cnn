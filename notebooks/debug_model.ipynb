{
 "cells": [
  {
   "cell_type": "code",
   "execution_count": null,
   "metadata": {},
   "outputs": [],
   "source": [
    "from pathlib import Path\n",
    "import os\n",
    "import datetime\n",
    "import logging\n",
    "import pprint\n",
    "\n",
    "import click\n",
    "import yaml\n",
    "import h5py\n",
    "from dotenv import find_dotenv, load_dotenv\n",
    "import tensorflow as tf\n",
    "\n",
    "from src.models.models import get_compiled_model\n",
    "from src.data.tf_data import TFDataCreator\n",
    "from src.models.utils import config_gpu\n",
    "from src.data.utils import get_split\n",
    "\n",
    "log_fmt = '%(asctime)s - %(name)s - %(levelname)s - %(message)s'\n",
    "logging.basicConfig(level=logging.INFO, format=log_fmt)\n",
    "logger = logging.getLogger(__name__)\n",
    "\n",
    "project_dir = Path(\"../\").resolve()\n",
    "\n",
    "config_path = project_dir / \"configs/config.yaml\"\n",
    "\n",
    "gpu_id = \"0\"\n",
    "split_id = 0"
   ]
  },
  {
   "cell_type": "code",
   "execution_count": null,
   "metadata": {},
   "outputs": [],
   "source": [
    "with open(config_path) as f:\n",
    "        config = yaml.load(f, Loader=yaml.FullLoader)"
   ]
  },
  {
   "cell_type": "code",
   "execution_count": null,
   "metadata": {},
   "outputs": [],
   "source": [
    "config_gpu(gpu_id, memory_limit=60)"
   ]
  },
  {
   "cell_type": "code",
   "execution_count": null,
   "metadata": {},
   "outputs": [],
   "source": [
    "tf.keras.mixed_precision.set_global_policy('mixed_float16')"
   ]
  },
  {
   "cell_type": "code",
   "execution_count": null,
   "metadata": {},
   "outputs": [],
   "source": [
    "file = h5py.File(os.environ[\"DATAPATH\"], 'r')\n",
    "ids_train = get_split(split_id, os.environ[\"SPLITPATH\"])[\"training\"]\n",
    "ids_val = get_split(split_id, os.environ[\"SPLITPATH\"])[\"validation\"]\n",
    "tf_data_creator = TFDataCreator.get(\"Task04\")(\n",
    "    file,\n",
    "    image_ids=ids_train,\n",
    "    # patch_size=config[\"data\"][\"patch_size\"],\n",
    "    num_parallel_calls=tf.data.AUTOTUNE,\n",
    "    params_augmentation=config[\"data\"][\"augmentation\"],\n",
    ")\n",
    "ds_train = tf_data_creator.get_tf_data(\n",
    "    ids_train,\n",
    "    data_augmentation=False,\n",
    ").batch(1)\n",
    "\n",
    "ds_val = tf_data_creator.get_tf_data(\n",
    "    ids_val,\n",
    "    data_augmentation=False,\n",
    ").batch(1)"
   ]
  },
  {
   "cell_type": "code",
   "execution_count": null,
   "metadata": {},
   "outputs": [],
   "source": [
    "model = get_compiled_model(config[\"model\"], run_eagerly=False)"
   ]
  },
  {
   "cell_type": "code",
   "execution_count": null,
   "metadata": {},
   "outputs": [],
   "source": [
    "x, y = next(iter(ds_train))"
   ]
  },
  {
   "cell_type": "code",
   "execution_count": null,
   "metadata": {},
   "outputs": [],
   "source": [
    "x.shape"
   ]
  },
  {
   "cell_type": "code",
   "execution_count": null,
   "metadata": {},
   "outputs": [],
   "source": [
    "y_pred = model(x)"
   ]
  },
  {
   "cell_type": "code",
   "execution_count": null,
   "metadata": {},
   "outputs": [],
   "source": [
    "y_pred.shape"
   ]
  },
  {
   "cell_type": "code",
   "execution_count": null,
   "metadata": {},
   "outputs": [],
   "source": [
    "y_pred.numpy().max()"
   ]
  },
  {
   "cell_type": "code",
   "execution_count": null,
   "metadata": {},
   "outputs": [],
   "source": []
  }
 ],
 "metadata": {
  "kernelspec": {
   "display_name": "Python 3.6.9 64-bit",
   "language": "python",
   "name": "python3"
  },
  "language_info": {
   "codemirror_mode": {
    "name": "ipython",
    "version": 3
   },
   "file_extension": ".py",
   "mimetype": "text/x-python",
   "name": "python",
   "nbconvert_exporter": "python",
   "pygments_lexer": "ipython3",
   "version": "3.8.10"
  },
  "orig_nbformat": 4,
  "vscode": {
   "interpreter": {
    "hash": "31f2aee4e71d21fbe5cf8b01ff0e069b9275f58929596ceb00d14d90e3e16cd6"
   }
  }
 },
 "nbformat": 4,
 "nbformat_minor": 2
}
