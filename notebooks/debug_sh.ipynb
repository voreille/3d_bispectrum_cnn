{
 "cells": [
  {
   "cell_type": "code",
   "execution_count": 65,
   "metadata": {},
   "outputs": [],
   "source": [
    "import numpy as np\n",
    "from scipy import special as sp\n",
    "import matplotlib.pyplot as plt\n",
    "from sympy import Ynm, Symbol, simplify, N, lambdify"
   ]
  },
  {
   "cell_type": "code",
   "execution_count": 69,
   "metadata": {},
   "outputs": [],
   "source": [
    "\n",
    "theta = Symbol('theta')\n",
    "phi = Symbol('phi')\n",
    "yo = Ynm(2, 2, theta, phi).expand(func=True)\n",
    "f = lambdify([theta, phi], yo, 'numpy')"
   ]
  },
  {
   "cell_type": "code",
   "execution_count": 71,
   "metadata": {},
   "outputs": [
    {
     "data": {
      "text/plain": [
       "numpy.complex128"
      ]
     },
     "execution_count": 71,
     "metadata": {},
     "output_type": "execute_result"
    }
   ],
   "source": []
  },
  {
   "cell_type": "code",
   "execution_count": 68,
   "metadata": {},
   "outputs": [
    {
     "data": {
      "text/plain": [
       "array([Ynm(2, 2, theta, phi)], dtype=object)"
      ]
     },
     "execution_count": 68,
     "metadata": {},
     "output_type": "execute_result"
    }
   ],
   "source": [
    "np.array([yo])"
   ]
  },
  {
   "cell_type": "code",
   "execution_count": 6,
   "metadata": {},
   "outputs": [],
   "source": [
    "def legendre(n, X):\n",
    "    '''\n",
    "    Legendre polynomial used to define the SHs for degree n\n",
    "    '''\n",
    "    res = np.zeros(((n + 1, ) + (X.shape)))\n",
    "    for m in range(n + 1):\n",
    "        res[m] = sp.lpmv(m, n, X)\n",
    "    return res\n",
    "\n",
    "\n",
    "def spherical_harmonics(m, n, p_legendre, phi):\n",
    "    '''\n",
    "    Returns the SH of degree n, order m\n",
    "    '''\n",
    "    P_n_m = np.squeeze(p_legendre[np.abs(m)])\n",
    "    # Normalization constant\n",
    "    A = np.sqrt(\n",
    "        (2 * n + 1) / (4 * np.pi) * np.math.factorial(n - np.abs(m)) /\n",
    "        np.math.factorial(n + np.abs(m)))\n",
    "    # Spherical harmonics\n",
    "    sh = A * np.exp(1j * m * phi) * P_n_m\n",
    "    # Normalize the SH to unit norm\n",
    "    sh /= np.sqrt(np.sum(sh * np.conj(sh)))\n",
    "    return sh.astype(np.complex64)"
   ]
  },
  {
   "cell_type": "code",
   "execution_count": 72,
   "metadata": {},
   "outputs": [],
   "source": [
    "def get_spherical_coordinates(kernel_size):\n",
    "    x_grid = np.linspace(-(kernel_size // 2), kernel_size // 2, kernel_size)\n",
    "    x, y, z = np.meshgrid(x_grid, x_grid, x_grid, indexing='xy')\n",
    "    r = np.sqrt(x**2 + y**2 + z**2)\n",
    "    phi = np.arctan2(y, x)\n",
    "    theta = np.arccos(np.divide(z, r, out=np.zeros_like(r), where=r != 0))\n",
    "    return r, theta, phi\n",
    "\n",
    "\n",
    "def compute_spherical_harmonics(theta, phi, n, m):\n",
    "    kernel_size = theta.shape[0]\n",
    "    P_legendre = legendre(n, np.cos(theta))\n",
    "    return spherical_harmonics(m, n, P_legendre, phi)\n"
   ]
  },
  {
   "cell_type": "code",
   "execution_count": 77,
   "metadata": {},
   "outputs": [],
   "source": [
    "kernel_size = 9\n",
    "r, theta, phi = get_spherical_coordinates(kernel_size)\n",
    "sh = f(theta, phi) "
   ]
  },
  {
   "cell_type": "code",
   "execution_count": 78,
   "metadata": {},
   "outputs": [
    {
     "data": {
      "text/plain": [
       "<matplotlib.colorbar.Colorbar at 0x7f0c40406860>"
      ]
     },
     "execution_count": 78,
     "metadata": {},
     "output_type": "execute_result"
    },
    {
     "data": {
      "image/png": "[encoded data removed]",
      "text/plain": [
       "<Figure size 432x288 with 2 Axes>"
      ]
     },
     "metadata": {
      "needs_background": "light"
     },
     "output_type": "display_data"
    }
   ],
   "source": [
    "plt.imshow(np.real(sh)[:, :, 3])\n",
    "plt.colorbar()\n"
   ]
  },
  {
   "cell_type": "code",
   "execution_count": 75,
   "metadata": {},
   "outputs": [
    {
     "data": {
      "text/plain": [
       "(9, 9, 9)"
      ]
     },
     "execution_count": 75,
     "metadata": {},
     "output_type": "execute_result"
    }
   ],
   "source": [
    "f(theta, phi).shape"
   ]
  },
  {
   "cell_type": "code",
   "execution_count": null,
   "metadata": {},
   "outputs": [],
   "source": []
  }
 ],
 "metadata": {
  "kernelspec": {
   "display_name": "Python 3.6.9 ('env': virtualenv)",
   "language": "python",
   "name": "python3"
  },
  "language_info": {
   "codemirror_mode": {
    "name": "ipython",
    "version": 3
   },
   "file_extension": ".py",
   "mimetype": "text/x-python",
   "name": "python",
   "nbconvert_exporter": "python",
   "pygments_lexer": "ipython3",
   "version": "3.6.9"
  },
  "orig_nbformat": 4,
  "vscode": {
   "interpreter": {
    "hash": "e1bcd3f1250924f6d57b9ce9f8a011716152354b24e26825996d84b9332aef6a"
   }
  }
 },
 "nbformat": 4,
 "nbformat_minor": 2
}
