{
 "cells": [
  {
   "cell_type": "code",
   "execution_count": null,
   "metadata": {},
   "outputs": [],
   "source": [
    "import os\n",
    "from itertools import product\n",
    "import math\n",
    "\n",
    "import tensorflow as tf\n",
    "import numpy as np\n",
    "import matplotlib.pyplot as plt\n",
    "from scipy.ndimage import rotate, affine_transform\n",
    "from scipy import special as sp\n",
    "from sympy.physics.quantum.spin import Rotation\n",
    "\n",
    "from src.models.layers import SHConv3DRadial, BSHConv3D, compute_clebschgordan_matrix"
   ]
  },
  {
   "cell_type": "code",
   "execution_count": null,
   "metadata": {},
   "outputs": [],
   "source": [
    "def wigner_matrix(j, alpha, beta, gamma):\n",
    "    output = np.zeros((2 * j + 1, 2 * j + 1), dtype=np.complex128)\n",
    "    for m1, m2 in product(range(-j, j + 1), repeat=2):\n",
    "        m1_id = m1 + j\n",
    "        m2_id = m2 + j\n",
    "        output[m1_id, m2_id] = Rotation.D(j, m1, m2, alpha, beta, gamma).doit()\n",
    "    return output\n"
   ]
  },
  {
   "cell_type": "code",
   "execution_count": null,
   "metadata": {},
   "outputs": [],
   "source": [
    "# Calculates Rotation Matrix given euler angles.\n",
    "def compute_rotation_matrix(alpha, beta, gamma, origin=(0, 0, 0)):\n",
    "    alpha = np.deg2rad(alpha)\n",
    "    beta = np.deg2rad(beta)\n",
    "    gamma = np.deg2rad(gamma)\n",
    "    R_x = np.array([\n",
    "        [1, 0, 0],\n",
    "        [0, math.cos(alpha), -math.sin(alpha)],\n",
    "        [0, math.sin(alpha), math.cos(alpha)],\n",
    "    ])\n",
    "\n",
    "    R_y = np.array([\n",
    "        [math.cos(beta), 0, math.sin(beta)],\n",
    "        [0, 1, 0],\n",
    "        [-math.sin(beta), 0, math.cos(beta)],\n",
    "    ])\n",
    "\n",
    "    R_z = np.array([\n",
    "        [math.cos(gamma), -math.sin(gamma), 0],\n",
    "        [math.sin(gamma), math.cos(gamma), 0],\n",
    "        [0, 0, 1],\n",
    "    ])\n",
    "\n",
    "    # return np.dot(R_z, np.dot(R_y, R_x))\n",
    "    translation = np.eye(4)\n",
    "    translation[:3, 3] = -np.array(origin)\n",
    "\n",
    "    translation_inv = np.eye(4)\n",
    "    translation_inv[:3, 3] = np.array(origin)\n",
    "\n",
    "    matrix = np.eye(4)\n",
    "    matrix[:3, :3] = R_z @ R_y @ R_x\n",
    "    return (translation_inv @ matrix @ translation)\n"
   ]
  },
  {
   "cell_type": "code",
   "execution_count": null,
   "metadata": {},
   "outputs": [],
   "source": [
    "D1 = wigner_matrix(1, np.pi / 2, np.pi / 2, np.pi / 2)\n",
    "D2 = wigner_matrix(4, np.pi / 2, np.pi / 2, np.pi / 2)\n",
    "cg_mat = compute_clebschgordan_matrix(1, 4)\n"
   ]
  },
  {
   "cell_type": "code",
   "execution_count": null,
   "metadata": {},
   "outputs": [],
   "source": [
    "F = np.array([1, 0, 0])\n",
    "np.abs(D1)"
   ]
  },
  {
   "cell_type": "code",
   "execution_count": null,
   "metadata": {},
   "outputs": [],
   "source": [
    "block_diag_matrix = cg_mat.T @ np.kron(D1, D2) @ cg_mat\n"
   ]
  },
  {
   "cell_type": "code",
   "execution_count": null,
   "metadata": {},
   "outputs": [],
   "source": [
    "plt.imshow(np.abs(block_diag_matrix))\n",
    "plt.colorbar()"
   ]
  },
  {
   "cell_type": "code",
   "execution_count": null,
   "metadata": {},
   "outputs": [],
   "source": [
    "wigner_matrix(2, np.pi, 0, 0)"
   ]
  },
  {
   "cell_type": "code",
   "execution_count": null,
   "metadata": {},
   "outputs": [],
   "source": [
    "os.environ[\"CUDA_VISIBLE_DEVICES\"] = \"2\""
   ]
  },
  {
   "cell_type": "code",
   "execution_count": null,
   "metadata": {},
   "outputs": [],
   "source": [
    "kernel_size = 17\n",
    "layer = SHConv3DRadial(1,\n",
    "                       kernel_size,\n",
    "                       max_degree=3,\n",
    "                       padding=\"same\",\n",
    "                       initializer=tf.keras.initializers.Constant(value=1.0))\n"
   ]
  },
  {
   "cell_type": "code",
   "execution_count": null,
   "metadata": {},
   "outputs": [],
   "source": [
    "image_size = 31\n",
    "dirac = np.zeros((1, image_size, image_size, image_size, 1))\n",
    "dirac[0, image_size // 2, image_size // 2, image_size // 2, 0] = 1\n",
    "plt.imshow(dirac[0, :, :, image_size // 2, 0])\n"
   ]
  },
  {
   "cell_type": "code",
   "execution_count": null,
   "metadata": {},
   "outputs": [],
   "source": [
    "impulse_response = np.squeeze(layer(dirac))"
   ]
  },
  {
   "cell_type": "code",
   "execution_count": null,
   "metadata": {},
   "outputs": [],
   "source": [
    "impulse_response.shape"
   ]
  },
  {
   "cell_type": "code",
   "execution_count": null,
   "metadata": {},
   "outputs": [],
   "source": [
    "f = 0\n",
    "plt.subplot(121)\n",
    "plt.imshow(np.real(impulse_response[:, :, image_size // 2, f]))\n",
    "plt.colorbar()\n",
    "plt.subplot(122)\n",
    "plt.imshow(np.imag(impulse_response[:, :, image_size // 2, f]))\n",
    "plt.colorbar()"
   ]
  },
  {
   "cell_type": "code",
   "execution_count": null,
   "metadata": {},
   "outputs": [],
   "source": [
    "impulse_response.shape"
   ]
  },
  {
   "cell_type": "code",
   "execution_count": null,
   "metadata": {},
   "outputs": [],
   "source": [
    "layer.filters.shape"
   ]
  },
  {
   "cell_type": "code",
   "execution_count": null,
   "metadata": {},
   "outputs": [],
   "source": [
    "F_1 = np.squeeze(layer.filters.numpy())[..., [1, 2, 3]]\n",
    "H_1 = impulse_response[..., [1, 2, 3]]\n"
   ]
  },
  {
   "cell_type": "code",
   "execution_count": null,
   "metadata": {},
   "outputs": [],
   "source": [
    "F_1.shape"
   ]
  },
  {
   "cell_type": "code",
   "execution_count": null,
   "metadata": {},
   "outputs": [],
   "source": [
    "def rotate_3d(image, angle1, angle2, angle3):\n",
    "    image = np.squeeze(image)\n",
    "    image = rotate(image, -angle1, axes=(0, 1), reshape=False)\n",
    "    image = rotate(image, angle2, axes=(1, 2), reshape=False)\n",
    "    image = rotate(image, -angle3, axes=(0, 1), reshape=False)\n",
    "    return image\n",
    "\n",
    "\n",
    "def inv_rotate_3d(image, angle1, angle2, angle3):\n",
    "    image = np.squeeze(image)\n",
    "    image = rotate(image, angle3, axes=(0, 1), reshape=False)\n",
    "    image = rotate(image, -angle2, axes=(1, 2), reshape=False)\n",
    "    image = rotate(image, angle1, axes=(0, 1), reshape=False)\n",
    "    return image"
   ]
  },
  {
   "cell_type": "code",
   "execution_count": null,
   "metadata": {},
   "outputs": [],
   "source": [
    "angle1, angle2, angle3 = 0, 90, 0\n",
    "D1 = wigner_matrix(1, angle1 * np.pi / 180, angle2 * np.pi / 180,\n",
    "                   angle3 * np.pi / 180)\n",
    "F_1_rotated = F_1 @ D1\n",
    "# F_1_rotated = rotate_3d(F_1, angle1, angle2, angle3)\n",
    "H_1_rotated = H_1 @ D1\n",
    "f=0"
   ]
  },
  {
   "cell_type": "code",
   "execution_count": null,
   "metadata": {},
   "outputs": [],
   "source": [
    "plt.subplot(121)\n",
    "plt.imshow(np.real(F_1[:, :, kernel_size // 2, f]))\n",
    "plt.colorbar()\n",
    "plt.subplot(122)\n",
    "plt.imshow(np.imag(F_1[:, :, kernel_size // 2, f]))\n",
    "plt.colorbar()"
   ]
  },
  {
   "cell_type": "code",
   "execution_count": null,
   "metadata": {},
   "outputs": [],
   "source": [
    "plt.subplot(121)\n",
    "plt.imshow(np.real(F_1_rotated[:, :, kernel_size // 2, f]))\n",
    "plt.colorbar()\n",
    "plt.subplot(122)\n",
    "plt.imshow(np.imag(F_1_rotated[:, :, kernel_size // 2, f]))\n",
    "plt.colorbar()"
   ]
  },
  {
   "cell_type": "code",
   "execution_count": null,
   "metadata": {},
   "outputs": [],
   "source": [
    "F1_unrotated = inv_rotate_3d(F_1_rotated, angle1, angle2, angle3)\n",
    "H1_unrotated = inv_rotate_3d(H_1_rotated, angle1, angle2, angle3)"
   ]
  },
  {
   "cell_type": "code",
   "execution_count": null,
   "metadata": {},
   "outputs": [],
   "source": [
    "plt.subplot(121)\n",
    "plt.imshow(np.real(F1_unrotated[:, :, kernel_size // 2, f]))\n",
    "plt.colorbar()\n",
    "plt.subplot(122)\n",
    "plt.imshow(np.imag(F1_unrotated[:, :, kernel_size // 2, f]))\n",
    "plt.colorbar()"
   ]
  },
  {
   "cell_type": "code",
   "execution_count": null,
   "metadata": {},
   "outputs": [],
   "source": [
    "# difference = F_1 - F1_unrotated\n",
    "difference = H_1 - H1_unrotated\n",
    "plt.subplot(131)\n",
    "plt.imshow(np.abs(difference[:, :, image_size // 2, f]))\n",
    "plt.colorbar()\n",
    "plt.subplot(132)\n",
    "plt.imshow(np.abs(difference[:, image_size // 2, :, f]))\n",
    "plt.colorbar()\n",
    "plt.subplot(133)\n",
    "plt.imshow(np.abs(difference[image_size // 2, :, :, f]))\n",
    "plt.colorbar()"
   ]
  },
  {
   "cell_type": "code",
   "execution_count": null,
   "metadata": {},
   "outputs": [],
   "source": []
  }
 ],
 "metadata": {
  "kernelspec": {
   "display_name": "Python 3.8.12 64-bit",
   "language": "python",
   "name": "python3"
  },
  "language_info": {
   "codemirror_mode": {
    "name": "ipython",
    "version": 3
   },
   "file_extension": ".py",
   "mimetype": "text/x-python",
   "name": "python",
   "nbconvert_exporter": "python",
   "pygments_lexer": "ipython3",
   "version": "3.8.12"
  },
  "orig_nbformat": 4,
  "vscode": {
   "interpreter": {
    "hash": "df0893f56f349688326838aaeea0de204df53a132722cbd565e54b24a8fec5f6"
   }
  }
 },
 "nbformat": 4,
 "nbformat_minor": 2
}
