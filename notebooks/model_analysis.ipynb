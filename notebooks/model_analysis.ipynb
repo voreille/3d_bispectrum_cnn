{
 "cells": [
  {
   "cell_type": "code",
   "execution_count": null,
   "metadata": {},
   "outputs": [],
   "source": [
    "import os\n",
    "\n",
    "import tensorflow as tf\n",
    "import numpy as np\n",
    "import h5py\n",
    "import matplotlib.pyplot as plt\n",
    "import pandas as pd\n",
    "from dotenv import find_dotenv, load_dotenv\n",
    "from tqdm import tqdm\n",
    "\n",
    "from src.models.models import load_model\n",
    "from src.data.tf_data import TFDataCreator\n",
    "from src.data.utils import get_split\n",
    "from src.models.losses import dice_loss, dice_coefficient_hard\n",
    "from src.models.utils import config_gpu\n",
    "\n",
    "load_dotenv(find_dotenv())\n",
    "%matplotlib inline"
   ]
  },
  {
   "cell_type": "code",
   "execution_count": null,
   "metadata": {},
   "outputs": [],
   "source": [
    "config_gpu(0, 16)"
   ]
  },
  {
   "cell_type": "code",
   "execution_count": null,
   "metadata": {},
   "outputs": [],
   "source": [
    "task = \"Task04_Hippocampus\""
   ]
  },
  {
   "cell_type": "code",
   "execution_count": null,
   "metadata": {},
   "outputs": [],
   "source": [
    "model_path = \"../models/S4Unet__ks_3__nf_4_8_16_32_64___split_0__20221018-172719\""
   ]
  },
  {
   "cell_type": "code",
   "execution_count": null,
   "metadata": {},
   "outputs": [],
   "source": [
    "model = load_model(model_path)"
   ]
  },
  {
   "cell_type": "code",
   "execution_count": null,
   "metadata": {},
   "outputs": [],
   "source": [
    "split_id = 0\n",
    "ids_train = get_split(split_id, os.environ[\"SPLITPATH\"])[\"training\"]\n",
    "ids_val = get_split(split_id, os.environ[\"SPLITPATH\"])[\"validation\"]\n",
    "ids_test = get_split(split_id, os.environ[\"SPLITPATH\"])[\"testing\"]"
   ]
  },
  {
   "cell_type": "code",
   "execution_count": null,
   "metadata": {},
   "outputs": [],
   "source": [
    "file = h5py.File(f\"../data/processed/{task}/{task}_training.hdf5\", \"r\")\n",
    "data_creator = TFDataCreator.get(task.split(\"_\")[0])(\n",
    "    file,\n",
    "    #    patch_size=(128, 128, 128),\n",
    "    shuffle=True,\n",
    "    params_augmentation={\n",
    "        \"rotation\": False,\n",
    "        \"random_center\": False,\n",
    "    })\n",
    "ds = data_creator.get_tf_data_with_id(ids_test).batch(4)"
   ]
  },
  {
   "cell_type": "code",
   "execution_count": null,
   "metadata": {},
   "outputs": [],
   "source": [
    "x, y, image_id = next(ds.as_numpy_iterator())"
   ]
  },
  {
   "cell_type": "code",
   "execution_count": null,
   "metadata": {},
   "outputs": [],
   "source": [
    "x.shape"
   ]
  },
  {
   "cell_type": "code",
   "execution_count": null,
   "metadata": {},
   "outputs": [],
   "source": [
    "y_pred = model(x)"
   ]
  },
  {
   "cell_type": "code",
   "execution_count": null,
   "metadata": {},
   "outputs": [],
   "source": [
    "s = 32\n",
    "b = 3\n",
    "plt.subplot(1, 3, 1)\n",
    "plt.imshow(x[b, :, :, s, 0])\n",
    "plt.subplot(1, 3, 2)\n",
    "plt.imshow(y[b, :, :, s, 1])\n",
    "plt.subplot(1, 3, 3)\n",
    "plt.imshow(y_pred[b, :, :, s, 1])\n",
    "\n"
   ]
  },
  {
   "cell_type": "code",
   "execution_count": null,
   "metadata": {},
   "outputs": [],
   "source": [
    "plt.subplot(1, 3, 1)\n",
    "plt.imshow(x[b, :, :, s, 0])\n",
    "plt.subplot(1, 3, 2)\n",
    "plt.imshow(y[b, :, :, s, 2])\n",
    "plt.subplot(1, 3, 3)\n",
    "plt.imshow(y_pred[b, :, :, s, 2])\n",
    "\n"
   ]
  },
  {
   "cell_type": "code",
   "execution_count": null,
   "metadata": {},
   "outputs": [],
   "source": [
    "plt.imshow(y[b, :, :, s, 2])"
   ]
  },
  {
   "cell_type": "code",
   "execution_count": null,
   "metadata": {},
   "outputs": [],
   "source": [
    "model.summary()"
   ]
  },
  {
   "cell_type": "code",
   "execution_count": null,
   "metadata": {},
   "outputs": [],
   "source": [
    "np.unique(y_pred[b, :, :, s, 0])"
   ]
  },
  {
   "cell_type": "code",
   "execution_count": null,
   "metadata": {},
   "outputs": [],
   "source": [
    "results = pd.DataFrame()\n",
    "i = 0\n",
    "for x, y, image_ids in ds:\n",
    "    y_pred = model(x).numpy()\n",
    "    dices_1 = dice_coefficient_hard(y[..., 1], y_pred[..., 1]).numpy()\n",
    "    dices_2 = dice_coefficient_hard(y[..., 2], y_pred[..., 2]).numpy()\n",
    "    for b in range(y.shape[0]):\n",
    "        results = pd.concat([\n",
    "            results,\n",
    "            pd.DataFrame(\n",
    "                {\n",
    "                    \"dice_1\": dices_1[b],\n",
    "                    \"dice_2\": dices_2[b]\n",
    "                },\n",
    "                index=[image_ids[b].numpy().decode(\"utf-8\")],\n",
    "            )\n",
    "        ])\n",
    "        i += 1\n"
   ]
  },
  {
   "cell_type": "code",
   "execution_count": null,
   "metadata": {},
   "outputs": [],
   "source": [
    "results.describe()"
   ]
  },
  {
   "cell_type": "code",
   "execution_count": null,
   "metadata": {},
   "outputs": [],
   "source": [
    "results"
   ]
  },
  {
   "cell_type": "code",
   "execution_count": null,
   "metadata": {},
   "outputs": [],
   "source": []
  }
 ],
 "metadata": {
  "kernelspec": {
   "display_name": "Python 3.8.10 64-bit",
   "language": "python",
   "name": "python3"
  },
  "language_info": {
   "codemirror_mode": {
    "name": "ipython",
    "version": 3
   },
   "file_extension": ".py",
   "mimetype": "text/x-python",
   "name": "python",
   "nbconvert_exporter": "python",
   "pygments_lexer": "ipython3",
   "version": "3.8.10"
  },
  "orig_nbformat": 4,
  "vscode": {
   "interpreter": {
    "hash": "31f2aee4e71d21fbe5cf8b01ff0e069b9275f58929596ceb00d14d90e3e16cd6"
   }
  }
 },
 "nbformat": 4,
 "nbformat_minor": 2
}
