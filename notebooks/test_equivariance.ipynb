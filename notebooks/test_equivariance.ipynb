{
 "cells": [
  {
   "cell_type": "code",
   "execution_count": null,
   "metadata": {},
   "outputs": [],
   "source": [
    "import os\n",
    "from itertools import product\n",
    "\n",
    "import h5py\n",
    "import matplotlib.pyplot as plt\n",
    "import pandas as pd\n",
    "import numpy as np\n",
    "import tensorflow as tf\n",
    "from scipy.ndimage import rotate\n",
    "\n",
    "from src.data.tf_data import TFDataCreator\n",
    "from src.data.data_augmentation import preprocess_ct, RightAngleRotation\n",
    "from src.models.utils import config_gpu\n",
    "from src.models.cubenet.layers import GroupConv \n",
    "from src.models.layers_faster import SHConv3DRadial, BSHConv3D, SSHConv3D\n",
    "\n",
    "%matplotlib inline"
   ]
  },
  {
   "cell_type": "code",
   "execution_count": null,
   "metadata": {},
   "outputs": [],
   "source": [
    "config_gpu(\"0\", 4)\n",
    "task = \"Task04_Hippocampus\""
   ]
  },
  {
   "cell_type": "code",
   "execution_count": null,
   "metadata": {},
   "outputs": [],
   "source": [
    "file = h5py.File(f\"../data/processed/{task}/{task}_training.hdf5\", \"r\")"
   ]
  },
  {
   "cell_type": "code",
   "execution_count": null,
   "metadata": {},
   "outputs": [],
   "source": [
    "data_creator = TFDataCreator.get(task.split(\"_\")[0])(file,\n",
    "                                                     shuffle=True,\n",
    "                                                     params_augmentation={\n",
    "                                                         \"rotation\": True,\n",
    "                                                         \"random_center\": False,\n",
    "                                                     })\n",
    "ds = data_creator.get_tf_data(data_augmentation=True)"
   ]
  },
  {
   "cell_type": "code",
   "execution_count": null,
   "metadata": {},
   "outputs": [],
   "source": [
    "np_iterator = ds.batch(4).repeat().as_numpy_iterator()"
   ]
  },
  {
   "cell_type": "code",
   "execution_count": null,
   "metadata": {},
   "outputs": [],
   "source": [
    "x, y_gt = next(np_iterator)"
   ]
  },
  {
   "cell_type": "code",
   "execution_count": null,
   "metadata": {},
   "outputs": [],
   "source": [
    "s = 32\n",
    "b = 0\n",
    "plt.subplot(1, 4, 1)\n",
    "plt.imshow(x[b, :, :, s, 0])\n",
    "plt.subplot(1, 4, 2)\n",
    "plt.imshow(y_gt[b, :, :, s, 0])\n",
    "plt.subplot(1, 4, 3)\n",
    "plt.imshow(y_gt[b, :, :, s, 1])\n",
    "plt.colorbar()\n",
    "plt.subplot(1, 4, 4)\n",
    "plt.imshow(y_gt[b, :, :, s, 2])"
   ]
  },
  {
   "cell_type": "code",
   "execution_count": null,
   "metadata": {},
   "outputs": [],
   "source": [
    "def rotate_3d(image, angle1, angle2, angle3):\n",
    "    image = np.squeeze(image)\n",
    "    image = rotate(image, -angle1, axes=(0, 1), reshape=False, order=0)\n",
    "    image = rotate(image, angle2, axes=(1, 2), reshape=False, order=0)\n",
    "    image = rotate(image, -angle3, axes=(0, 1), reshape=False, order=0)\n",
    "    return image\n",
    "\n",
    "\n",
    "def inv_rotate_3d(image, angle1, angle2, angle3):\n",
    "    image = np.squeeze(image)\n",
    "    image = rotate(image, angle3, axes=(0, 1), reshape=False, order=0)\n",
    "    image = rotate(image, -angle2, axes=(1, 2), reshape=False, order=0)\n",
    "    image = rotate(image, angle1, axes=(0, 1), reshape=False, order=0)\n",
    "    return image"
   ]
  },
  {
   "cell_type": "code",
   "execution_count": null,
   "metadata": {},
   "outputs": [],
   "source": [
    "model = tf.keras.Sequential(layers=[\n",
    "    tf.keras.layers.Lambda(lambda x: tf.expand_dims(x, axis=-2)\n",
    "                           ),  # need this for the lifting layer\n",
    "    GroupConv(\n",
    "        5,\n",
    "        kernel_size=(3, 3, 3),\n",
    "        group=\"S4\",\n",
    "        activation=\"relu\",\n",
    "        use_bias=True,\n",
    "        bias_initializer=tf.keras.initializers.Constant(0.1),\n",
    "        share_weights=True,\n",
    "    ),  # Lifting layer\n",
    "    GroupConv(\n",
    "        5,\n",
    "        kernel_size=(3, 3, 3),\n",
    "        group=\"S4\",\n",
    "        activation=\"relu\",\n",
    "        use_bias=True,\n",
    "        bias_initializer=tf.keras.initializers.Constant(0.1),\n",
    "        share_weights=True,\n",
    "    ),  # g-conv layer\n",
    "    tf.keras.layers.Lambda(lambda x: tf.reduce_max(x, axis=-1)),\n",
    "])\n",
    "\n",
    "model_bispectrum = BSHConv3D(\n",
    "    1,\n",
    "    3,\n",
    "    max_degree=5,\n",
    "    padding=\"valid\",\n",
    "    kernel_initializer=tf.keras.initializers.Constant(value=1.0),\n",
    "    project=False)\n"
   ]
  },
  {
   "cell_type": "code",
   "execution_count": null,
   "metadata": {},
   "outputs": [],
   "source": [
    "angle1, angle2, angle3 = 90, 90, 90\n",
    "x_rotated = np.zeros_like(x)\n",
    "for b, c in product(range(x.shape[0]), range(x.shape[-1])):\n",
    "    x_rotated[b, :, :, :, c] = rotate_3d(x[b, :, :, :, c], angle1, angle2,\n",
    "                                         angle3)"
   ]
  },
  {
   "cell_type": "code",
   "execution_count": null,
   "metadata": {},
   "outputs": [],
   "source": [
    "# Just a check to be sure the rotation is perfect\n",
    "for b, c in product(range(x.shape[0]), range(x.shape[-1])):\n",
    "    error = np.sum(\n",
    "        np.abs(x[b, :, :, :, c] -\n",
    "               inv_rotate_3d(x_rotated[b, :, :, :,\n",
    "                                       c], angle1, angle2, angle3)), )\n",
    "    print(f\"Error for sample {b} and channel {c} is {error}\")"
   ]
  },
  {
   "cell_type": "code",
   "execution_count": null,
   "metadata": {},
   "outputs": [],
   "source": [
    "y_rotated = model(x_rotated)\n",
    "y = model(x)"
   ]
  },
  {
   "cell_type": "code",
   "execution_count": null,
   "metadata": {},
   "outputs": [],
   "source": [
    "y_unrotated = np.zeros_like(y)\n",
    "for b, c in product(range(y.shape[0]), range(y.shape[-1])):\n",
    "    y_unrotated[b, :, :, :, c] = inv_rotate_3d(y_rotated[b, :, :, :, c],\n",
    "                                               angle1, angle2, angle3)"
   ]
  },
  {
   "cell_type": "code",
   "execution_count": null,
   "metadata": {},
   "outputs": [],
   "source": [
    "def psnr(x, y):\n",
    "    mse = np.mean(np.abs(x - y)**2, axis=(1, 2, 3))\n",
    "    max_image = np.max(np.abs(x), axis=(1, 2, 3))\n",
    "    return 20 * np.log10(max_image / np.sqrt(mse))"
   ]
  },
  {
   "cell_type": "code",
   "execution_count": null,
   "metadata": {},
   "outputs": [],
   "source": [
    "y.shape"
   ]
  },
  {
   "cell_type": "code",
   "execution_count": null,
   "metadata": {},
   "outputs": [],
   "source": [
    "psnr(y, y_unrotated)"
   ]
  },
  {
   "cell_type": "code",
   "execution_count": null,
   "metadata": {},
   "outputs": [],
   "source": [
    "b = 0\n",
    "c = 2\n",
    "fmap = y[b, :, :, :, c]\n",
    "fmap_unrotated = y_unrotated[b, :, :, :, c]"
   ]
  },
  {
   "cell_type": "code",
   "execution_count": null,
   "metadata": {},
   "outputs": [],
   "source": [
    "difference = fmap - fmap_unrotated\n",
    "indices_max_error = np.where(difference.numpy() == difference.numpy().max())\n",
    "s = indices_max_error[2][0]  # check the first slice with the maximum error\n",
    "print(f\"Coordinate of the maximum errors: {indices_max_error}\")\n",
    "\n",
    "fig, (ax1, ax2, ax3) = plt.subplots(1, 3, layout='constrained', sharey=True)\n",
    "fig.set_size_inches(18.5, 10.5)\n",
    "\n",
    "z1_plot = ax1.imshow(np.abs(difference[:, :, s]))\n",
    "fig.colorbar(z1_plot, ax=ax1, fraction=0.046, pad=0.04)\n",
    "ax1.set_title(\"Differences\")\n",
    "\n",
    "z2_plot = ax2.imshow(np.abs(fmap[:, :, s]))\n",
    "fig.colorbar(z2_plot, ax=ax2, fraction=0.046, pad=0.04)\n",
    "ax2.set_title(\"y\")\n",
    "\n",
    "z3_plot = ax3.imshow(np.abs(fmap_unrotated[:, :, s]))\n",
    "fig.colorbar(z3_plot, ax=ax3, fraction=0.046, pad=0.04)\n",
    "ax3.set_title(\"y_unrotated\")"
   ]
  },
  {
   "cell_type": "code",
   "execution_count": null,
   "metadata": {},
   "outputs": [],
   "source": [
    "y_rotated = model_bispectrum(x_rotated)\n",
    "y = model_bispectrum(x)"
   ]
  },
  {
   "cell_type": "code",
   "execution_count": null,
   "metadata": {},
   "outputs": [],
   "source": [
    "y_unrotated = np.zeros_like(y)\n",
    "for b, c in product(range(y.shape[0]), range(y.shape[-1])):\n",
    "    y_unrotated[b, :, :, :, c] = inv_rotate_3d(y_rotated[b, :, :, :, c],\n",
    "                                               angle1, angle2, angle3)"
   ]
  },
  {
   "cell_type": "code",
   "execution_count": null,
   "metadata": {},
   "outputs": [],
   "source": [
    "psnr(y,y_unrotated)"
   ]
  },
  {
   "cell_type": "code",
   "execution_count": null,
   "metadata": {},
   "outputs": [],
   "source": [
    "b = 0\n",
    "c = 9\n",
    "fmap = y[b, :, :, :, c]\n",
    "fmap_unrotated = y_unrotated[b, :, :, :, c]"
   ]
  },
  {
   "cell_type": "code",
   "execution_count": null,
   "metadata": {},
   "outputs": [],
   "source": [
    "difference = fmap - fmap_unrotated\n",
    "indices_max_error = np.where(difference.numpy() == difference.numpy().max())\n",
    "s = indices_max_error[2][0]  # check the first slice with the maximum error\n",
    "print(f\"Coordinate of the maximum errors: {indices_max_error}\")\n",
    "\n",
    "fig, (ax1, ax2, ax3) = plt.subplots(1, 3, layout='constrained', sharey=True)\n",
    "fig.set_size_inches(18.5, 10.5)\n",
    "\n",
    "z1_plot = ax1.imshow(np.abs(difference[:, :, s]))\n",
    "fig.colorbar(z1_plot, ax=ax1, fraction=0.046, pad=0.04)\n",
    "ax1.set_title(\"Differences\")\n",
    "\n",
    "z2_plot = ax2.imshow(np.abs(fmap[:, :, s]))\n",
    "fig.colorbar(z2_plot, ax=ax2, fraction=0.046, pad=0.04)\n",
    "ax2.set_title(\"y\")\n",
    "\n",
    "z3_plot = ax3.imshow(np.abs(fmap_unrotated[:, :, s]))\n",
    "fig.colorbar(z3_plot, ax=ax3, fraction=0.046, pad=0.04)\n",
    "ax3.set_title(\"y_unrotated\")"
   ]
  },
  {
   "cell_type": "code",
   "execution_count": null,
   "metadata": {},
   "outputs": [],
   "source": [
    "difference.numpy().argmax()"
   ]
  },
  {
   "cell_type": "code",
   "execution_count": null,
   "metadata": {},
   "outputs": [],
   "source": [
    "indices_max_error = np.where(difference.numpy()==difference.numpy().max())\n",
    "coords_max_error = list(zip(indices_max_error[0], indices_max_error[1], indices_max_error[2]))"
   ]
  },
  {
   "cell_type": "code",
   "execution_count": null,
   "metadata": {},
   "outputs": [],
   "source": [
    "coords_max_error"
   ]
  },
  {
   "cell_type": "code",
   "execution_count": null,
   "metadata": {},
   "outputs": [],
   "source": [
    "indices_max_error"
   ]
  },
  {
   "cell_type": "code",
   "execution_count": null,
   "metadata": {},
   "outputs": [],
   "source": []
  }
 ],
 "metadata": {
  "kernelspec": {
   "display_name": "Python 3",
   "language": "python",
   "name": "python3"
  },
  "language_info": {
   "codemirror_mode": {
    "name": "ipython",
    "version": 3
   },
   "file_extension": ".py",
   "mimetype": "text/x-python",
   "name": "python",
   "nbconvert_exporter": "python",
   "pygments_lexer": "ipython3",
   "version": "3.11.0rc1"
  }
 },
 "nbformat": 4,
 "nbformat_minor": 2
}
