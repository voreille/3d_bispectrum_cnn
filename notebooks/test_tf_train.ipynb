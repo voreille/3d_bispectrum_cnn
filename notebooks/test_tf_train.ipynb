{
 "cells": [
  {
   "cell_type": "code",
   "execution_count": null,
   "metadata": {},
   "outputs": [],
   "source": [
    "import os\n",
    "\n",
    "import h5py\n",
    "import matplotlib.pyplot as plt\n",
    "import pandas as pd\n",
    "import numpy as np\n",
    "import tensorflow as tf\n",
    "\n",
    "from src.data.tf_data import TFDataCreator\n",
    "from src.data.data_augmentation import preprocess_ct, RightAngleRotation\n",
    "from src.models.models import Unet\n",
    "from src.models.utils import config_gpu\n",
    "\n",
    "%matplotlib inline"
   ]
  },
  {
   "cell_type": "code",
   "execution_count": null,
   "metadata": {},
   "outputs": [],
   "source": [
    "config_gpu(\"0\", 4)\n",
    "task = \"Task04_Hippocampus\""
   ]
  },
  {
   "cell_type": "code",
   "execution_count": null,
   "metadata": {},
   "outputs": [],
   "source": [
    "file = h5py.File(f\"../data/processed/{task}/{task}_training.hdf5\", \"r\")"
   ]
  },
  {
   "cell_type": "code",
   "execution_count": null,
   "metadata": {},
   "outputs": [],
   "source": [
    "image_ids = list(file.keys())\n",
    "ds = tf.data.Dataset.from_tensor_slices(image_ids)"
   ]
  },
  {
   "cell_type": "code",
   "execution_count": null,
   "metadata": {},
   "outputs": [],
   "source": [
    "ds_cut = ds.shuffle(buffer_size=32).batch(2) #.repeat().batch(2).take(130)"
   ]
  },
  {
   "cell_type": "code",
   "execution_count": null,
   "metadata": {},
   "outputs": [],
   "source": [
    "ids = list()\n",
    "for i in ds_cut:\n",
    "    for b in range(i.shape[0]):\n",
    "        ids.append(i[b].numpy().decode(\"utf-8\"))"
   ]
  },
  {
   "cell_type": "code",
   "execution_count": null,
   "metadata": {},
   "outputs": [],
   "source": [
    "missing_ids = [i for i in image_ids if i not in ids]\n",
    "len(missing_ids)"
   ]
  },
  {
   "cell_type": "code",
   "execution_count": null,
   "metadata": {},
   "outputs": [],
   "source": [
    "data_creator = TFDataCreator.get(task.split(\"_\")[0])(file,\n",
    "                                                    image_ids=[\"hippocampus_011\"],\n",
    "                                                     shuffle=True,\n",
    "                                                     params_augmentation={\n",
    "                                                         \"rotation\": True,\n",
    "                                                         \"random_center\": False,\n",
    "                                                     })\n",
    "ds = data_creator.get_tf_data(data_augmentation=True)\n"
   ]
  },
  {
   "cell_type": "code",
   "execution_count": null,
   "metadata": {},
   "outputs": [],
   "source": [
    "df = pd.DataFrame()\n",
    "for k in file.keys():\n",
    "    shape = file[k][\"image\"][()].shape\n",
    "    df = pd.concat([df, pd.DataFrame({\n",
    "        \"shape_0\": [shape[0]],\n",
    "        \"shape_1\": [shape[1]],\n",
    "        \"shape_2\": [shape[2]],\n",
    "    }, index=[k])])\n"
   ]
  },
  {
   "cell_type": "code",
   "execution_count": null,
   "metadata": {},
   "outputs": [],
   "source": [
    "image = file[\"hippocampus_011\"][\"image\"][()]\n",
    "label = file[\"hippocampus_011\"][\"label\"][()]\n",
    "image.shape"
   ]
  },
  {
   "cell_type": "code",
   "execution_count": null,
   "metadata": {},
   "outputs": [],
   "source": [
    "image, label = data_creator._pad_image(image, label)\n",
    "image.shape"
   ]
  },
  {
   "cell_type": "code",
   "execution_count": null,
   "metadata": {},
   "outputs": [],
   "source": [
    "yo = ds.batch(4).repeat().as_numpy_iterator()"
   ]
  },
  {
   "cell_type": "code",
   "execution_count": null,
   "metadata": {},
   "outputs": [],
   "source": [
    "x, y = next(yo)"
   ]
  },
  {
   "cell_type": "code",
   "execution_count": null,
   "metadata": {},
   "outputs": [],
   "source": [
    "s = 32\n",
    "b = 0\n",
    "plt.subplot(1, 4, 1)\n",
    "plt.imshow(x[b, :, :, s, 0])\n",
    "plt.subplot(1, 4, 2)\n",
    "plt.imshow(y[b, :, :, s, 0])\n",
    "plt.subplot(1, 4, 3)\n",
    "plt.imshow(y[b, :, :, s, 1])\n",
    "plt.colorbar()\n",
    "plt.subplot(1, 4, 4)\n",
    "plt.imshow(y[b, :, :, s, 2])\n"
   ]
  },
  {
   "cell_type": "code",
   "execution_count": null,
   "metadata": {},
   "outputs": [],
   "source": [
    "model = Unet(output_channels=2, last_activation=\"softmax\", n_features=[12, 24, 48, 96, 192])"
   ]
  },
  {
   "cell_type": "code",
   "execution_count": null,
   "metadata": {},
   "outputs": [],
   "source": [
    "y_pred = model(x)"
   ]
  },
  {
   "cell_type": "code",
   "execution_count": null,
   "metadata": {},
   "outputs": [],
   "source": [
    "s = 32\n",
    "b = 0\n",
    "plt.subplot(1, 3, 1)\n",
    "plt.imshow(x[b, :, :, s, 0])\n",
    "plt.subplot(1, 3, 2)\n",
    "plt.imshow(y[b, :, :, s, 0])\n",
    "plt.subplot(1, 3, 3)\n",
    "plt.imshow(y_pred[b, :, :, s, 0])\n"
   ]
  },
  {
   "cell_type": "code",
   "execution_count": null,
   "metadata": {},
   "outputs": [],
   "source": [
    "np.unique(y)"
   ]
  },
  {
   "cell_type": "code",
   "execution_count": null,
   "metadata": {},
   "outputs": [],
   "source": [
    "from src.models.losses import dice_loss"
   ]
  },
  {
   "cell_type": "code",
   "execution_count": null,
   "metadata": {},
   "outputs": [],
   "source": [
    "x.shape"
   ]
  },
  {
   "cell_type": "code",
   "execution_count": null,
   "metadata": {},
   "outputs": [],
   "source": [
    "f = lambda y_true, y_pred: dice_loss(y_true[..., 0], y_pred[..., 0])\n"
   ]
  },
  {
   "cell_type": "code",
   "execution_count": null,
   "metadata": {},
   "outputs": [],
   "source": [
    "f(y, model(x)).numpy()"
   ]
  },
  {
   "cell_type": "code",
   "execution_count": null,
   "metadata": {},
   "outputs": [],
   "source": []
  },
  {
   "cell_type": "code",
   "execution_count": null,
   "metadata": {},
   "outputs": [],
   "source": []
  }
 ],
 "metadata": {
  "kernelspec": {
   "display_name": "Python 3.6.9 64-bit",
   "language": "python",
   "name": "python3"
  },
  "language_info": {
   "codemirror_mode": {
    "name": "ipython",
    "version": 3
   },
   "file_extension": ".py",
   "mimetype": "text/x-python",
   "name": "python",
   "nbconvert_exporter": "python",
   "pygments_lexer": "ipython3",
   "version": "3.11.0rc1"
  },
  "orig_nbformat": 4,
  "vscode": {
   "interpreter": {
    "hash": "31f2aee4e71d21fbe5cf8b01ff0e069b9275f58929596ceb00d14d90e3e16cd6"
   }
  }
 },
 "nbformat": 4,
 "nbformat_minor": 2
}
